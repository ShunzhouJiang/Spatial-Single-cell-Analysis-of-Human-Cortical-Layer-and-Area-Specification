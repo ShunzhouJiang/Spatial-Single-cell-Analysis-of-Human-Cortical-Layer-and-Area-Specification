{
 "cells": [
  {
   "cell_type": "code",
   "execution_count": 1,
   "metadata": {},
   "outputs": [],
   "source": [
    "import pandas as pd\n",
    "import numpy as np\n",
    "import scanpy as sc\n",
    "from scipy.sparse import csr_matrix\n",
    "from anndata import read_h5ad\n",
    "import matplotlib.pyplot as plt\n",
    "import seaborn as sns\n",
    "import scipy\n",
    "import os"
   ]
  },
  {
   "cell_type": "code",
   "execution_count": 6,
   "metadata": {},
   "outputs": [],
   "source": [
    "def scatter_gen(df1, df2,figname, xname,yname, path):\n",
    "    os.makedirs(path, exist_ok=True)\n",
    "    df1_avg = np.mean(df1, axis=0)[:300].values\n",
    "    df2_avg = np.mean(df2, axis=0)[:300].values\n",
    "\n",
    "    df1_blank = np.mean(df1.iloc[:,300:].values)\n",
    "    df2_blank = np.mean(df2.iloc[:,300:].values)\n",
    "    corr = np.round(scipy.stats.pearsonr(df1_avg, df2_avg).statistic, 2)\n",
    "    fig = plt.figure(figsize=(6,6))\n",
    "    max_val = np.max([np.ceil(np.max(df1_avg)), np.ceil(np.max(df2_avg))])\n",
    "    bd = 11\n",
    "    plt.scatter(df1_avg, df2_avg, c='black', s=3)\n",
    "    plt.plot([0, bd], [0, bd], color='darkblue', linestyle='-')\n",
    "    plt.xscale('log')\n",
    "    plt.xticks([0.01, 0.1, 1, 10], [r'$10^{-2}$', r'$10^{-1}$', r'$10^0$', r'$10^1$'])\n",
    "    plt.yscale('log')\n",
    "    plt.yticks([0.01, 0.1, 1, 10], [r'$10^{-2}$', r'$10^{-1}$', r'$10^0$', r'$10^1$'])\n",
    "    plt.xlim((0.004,bd))\n",
    "    plt.ylim((0.004,bd))\n",
    "    plt.axvline(x=df1_blank, color='grey', linestyle='--')\n",
    "    plt.axhline(y=df2_blank, color='grey', linestyle='--')\n",
    "    plt.xlabel(xname)\n",
    "    plt.ylabel(yname)\n",
    "    fig.savefig(f\"{path}/{figname}, corr={corr}.png\", dpi = 400)\n",
    "    plt.close()\n",
    "    return corr"
   ]
  },
  {
   "cell_type": "code",
   "execution_count": null,
   "metadata": {},
   "outputs": [],
   "source": [
    "df1_lst = [\"202303211414_FB080-C_VMSC02901\", \"202304281759_FB080-F-dorsal4_VMSC02901\",\n",
    "           \"202302251640_FB080-BA17_VMSC02901\", \"202302251640_FB080-BA17_VMSC02901\",\n",
    "           \"202302271239_FB080-BA17-2_VMSC02901\", \"202304101544_UMB1117-FP_VMSC02901\",\n",
    "           \"202304181458_UMB1117-B-1_VMSC02901\"]\n",
    "\n",
    "df2_lst = [\"202303221850_FB080-C-2_VMSC02901\", \"202304271501_FB080-F-dorsal-3_VMSC02901\",\n",
    "           \"202302271239_FB080-BA17-2_VMSC02901\", \"202303231348_FB080-BA17-3_VMSC02901\", \n",
    "           \"202303231348_FB080-BA17-3_VMSC02901\", \"202304111450_UMB1117-FP-2_VMSC02901\",\n",
    "           \"202304211731_UMB1117-B-2_VMSC02901\"]\n",
    "\n",
    "name1_lst = [\"FB080-F2a\", \"FB080-P1a\", \"FB080-O1a\", \"FB080-O1a\", \"FB080-O1b\", \"UMB1117-F1a\", \"UMB1117-F2a\"]\n",
    "\n",
    "name2_lst = [\"FB080-F2b\", \"FB080-P1b\", \"FB080-O1b\", \"FB080-O1c\", \"FB080-O1c\", \"UMB1117-F1b\", \"UMB1117-F2b\"]\n",
    "corr_lst = []\n",
    "path = \"same\"\n",
    "\n",
    "for i in range(len(df1_lst)):\n",
    "    df1 = pd.read_csv(f\"../segment_data/{df1_lst[i]}/cell_by_gene.csv\", index_col=0)\n",
    "    df2 = pd.read_csv(f\"../segment_data/{df2_lst[i]}/cell_by_gene.csv\", index_col=0)\n",
    "    corr_i = scatter_gen(df1, df2, f\"{name1_lst[i]}_{name2_lst[i]}\", name1_lst[i], name2_lst[i], path=path)\n",
    "    corr_lst.append(corr_i)\n",
    "np.save(f\"{path}/corr.npy\", corr_lst)"
   ]
  },
  {
   "cell_type": "code",
   "execution_count": 25,
   "metadata": {},
   "outputs": [],
   "source": [
    "df1_lst = [\"202303101614_FB080-BD-230310_VMSC02901\", \"202303211414_FB080-C_VMSC02901\",\n",
    "           \"202304281759_FB080-F-dorsal4_VMSC02901\", \"202303192017_FB080-F-lateral_VMSC02901\",\n",
    "           \"202306161342_FB080F-ventral_VMSC02901\", \"202302251640_FB080-BA17_VMSC02901\"]\n",
    "\n",
    "df2_lst = [\"202212211422_FB121-GW20-3A_VMSC02901\", \"202212281554_FB121-GW20-4A_VMSC02901\",\n",
    "           \"202212051316_FB121-5A-GW20_VMSC02901\", \"202302211407_FB121-6A-230221_VMSC02901\",\n",
    "           \"202301031539_FB121-5C-rerun_VMSC02901_V1\", \"202212021433_FB121-BA17-GW20_VMSC02901_dilation10\"]\n",
    "\n",
    "name1_lst = [\"FB080-F1\", \"FB080-F2a\", \"FB080-P1a\", \"FB080-P2\", \"FB080-T1\", \"FB080-O1a\"]\n",
    "\n",
    "name2_lst = [\"FB121-F1\", \"FB121-F2\", \"FB121-P1\", \"FB121-P2\", \"FB121-T1\", \"FB121-O1\"]\n",
    "corr_lst = []\n",
    "path = \"between\"\n",
    "\n",
    "for i in range(len(df1_lst)):\n",
    "    df1 = pd.read_csv(f\"../segment_data/{df1_lst[i]}/cell_by_gene.csv\", index_col=0)\n",
    "    df2 = pd.read_csv(f\"../segment_data/{df2_lst[i]}/cell_by_gene.csv\", index_col=0)\n",
    "    corr_i = scatter_gen(df1, df2, f\"{name1_lst[i]}_{name2_lst[i]}\", name1_lst[i], name2_lst[i], path=path)\n",
    "    corr_lst.append(corr_i)\n",
    "np.save(f\"{path}/corr.npy\", corr_lst)"
   ]
  },
  {
   "cell_type": "code",
   "execution_count": 27,
   "metadata": {},
   "outputs": [
    {
     "data": {
      "image/png": "[encoded data removed]",
      "text/plain": [
       "<Figure size 500x500 with 1 Axes>"
      ]
     },
     "metadata": {},
     "output_type": "display_data"
    }
   ],
   "source": [
    "corr_same = np.load(\"same/corr.npy\", allow_pickle=True)\n",
    "corr_between = np.load(\"between/corr.npy\", allow_pickle=True)\n",
    "\n",
    "w = 0.5    # bar width\n",
    "x = [1, 2] # x-coordinates of your bars\n",
    "# colors = [(0, 0, 1, 1), (1, 0, 0, 1)]    # corresponding colors\n",
    "colors = \"#7AC3DF\"\n",
    "y = [corr_same,       # data series\n",
    "    corr_between]\n",
    "\n",
    "fig, ax = plt.subplots(figsize = (5,5))\n",
    "ax.bar(x,\n",
    "       height=[np.mean(yi) for yi in y],\n",
    "       yerr=[np.std(yi) for yi in y],    # error bars\n",
    "       capsize=12, # error bar cap width in points\n",
    "       width=w,    # bar width\n",
    "       tick_label=[\"Same sample\", \"Between samples\"],\n",
    "       color=colors,  # face color transparent\n",
    "       edgecolor=colors,\n",
    "       #ecolor=colors,    # error bar colors; setting this raises an error for whatever reason.\n",
    "       )\n",
    "fig.savefig(\"corr_bar.pdf\", dpi = 400)\n",
    "plt.show()"
   ]
  },
  {
   "cell_type": "code",
   "execution_count": null,
   "metadata": {},
   "outputs": [],
   "source": []
  }
 ],
 "metadata": {
  "kernelspec": {
   "display_name": "Python 3",
   "language": "python",
   "name": "python3"
  },
  "language_info": {
   "codemirror_mode": {
    "name": "ipython",
    "version": 3
   },
   "file_extension": ".py",
   "mimetype": "text/x-python",
   "name": "python",
   "nbconvert_exporter": "python",
   "pygments_lexer": "ipython3",
   "version": "3.9.13"
  }
 },
 "nbformat": 4,
 "nbformat_minor": 2
}
