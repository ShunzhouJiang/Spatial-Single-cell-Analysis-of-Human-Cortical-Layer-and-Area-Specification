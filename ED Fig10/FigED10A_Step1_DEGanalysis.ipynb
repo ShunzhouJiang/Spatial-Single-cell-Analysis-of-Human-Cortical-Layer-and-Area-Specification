{
 "cells": [
  {
   "cell_type": "code",
   "execution_count": 1,
   "metadata": {},
   "outputs": [],
   "source": [
    "import scanpy as sc\n",
    "import matplotlib.pyplot as plt\n",
    "import numpy as np\n",
    "import pandas as pd"
   ]
  },
  {
   "cell_type": "code",
   "execution_count": 2,
   "metadata": {},
   "outputs": [
    {
     "name": "stdout",
     "output_type": "stream",
     "text": [
      "AnnData object with n_obs × n_vars = 15927370 × 300\n",
      "    obs: 'n_counts', 'sample', 'region', 'gw'\n",
      "    uns: 'rank_genes_groups'\n",
      "    obsm: 'spatial'\n"
     ]
    },
    {
     "data": {
      "text/plain": [
       "(15927370, 300)"
      ]
     },
     "execution_count": 2,
     "metadata": {},
     "output_type": "execute_result"
    }
   ],
   "source": [
    "adata = sc.read_h5ad(\"merscope_855_notscaled.h5ad\")\n",
    "print(adata)"
   ]
  },
  {
   "cell_type": "code",
   "execution_count": 2,
   "metadata": {},
   "outputs": [],
   "source": [
    "adata_scaled = sc.read_h5ad(\"merscope_855.h5ad\")\n",
    "print(adata_scaled)"
   ]
  },
  {
   "cell_type": "code",
   "execution_count": 13,
   "metadata": {},
   "outputs": [],
   "source": [
    "adata.obs.index = adata.obs.index.map(lambda x: x.split('-')[0])\n",
    "adata.obs['H3_annotation'] = adata_scaled.obs['H3_annotation']\n",
    "print(adata.obs['H3_annotation'].head())"
   ]
  },
  {
   "cell_type": "code",
   "execution_count": 70,
   "metadata": {},
   "outputs": [
    {
     "name": "stderr",
     "output_type": "stream",
     "text": [
      "/Users/cyluo/anaconda3/envs/xuyuEnv/lib/python3.9/site-packages/anndata/_core/anndata.py:1897: UserWarning: Observation names are not unique. To make them unique, call `.obs_names_make_unique`.\n",
      "  utils.warn_names_duplicates(\"obs\")\n"
     ]
    }
   ],
   "source": [
    "clusters_of_interest1 = ['EN-IT-L2/3-A2', 'EN-IT-L3-P']\n",
    "clusters_of_interest2 = ['EN-IT-L4-A', 'EN-IT-L4-late']\n",
    "clusters_of_interest3 = ['EN-IT-L4/5-1', 'EN-IT-L5/6-P']\n",
    "clusters_of_interest4 = ['EN-ET-L6-A', 'EN-ET-L6-P']\n",
    "clusters_of_interest5 = ['EN-ET-SP-A', 'EN-ET-SP-P1']\n",
    "\n",
    "adata_subset1 = adata[adata.obs['H3_annotation'].isin(clusters_of_interest1)].copy()\n",
    "adata_subset2 = adata[adata.obs['H3_annotation'].isin(clusters_of_interest2)].copy()\n",
    "adata_subset3 = adata[adata.obs['H3_annotation'].isin(clusters_of_interest3)].copy()\n",
    "adata_subset4 = adata[adata.obs['H3_annotation'].isin(clusters_of_interest4)].copy()\n",
    "adata_subset5 = adata[adata.obs['H3_annotation'].isin(clusters_of_interest5)].copy()"
   ]
  },
  {
   "cell_type": "code",
   "execution_count": 71,
   "metadata": {},
   "outputs": [
    {
     "name": "stdout",
     "output_type": "stream",
     "text": [
      "WARNING: Default of the method has been changed to 't-test' from 't-test_overestim_var'\n"
     ]
    }
   ],
   "source": [
    "# Perform DE analysis\n",
    "sc.tl.rank_genes_groups(adata_subset1, groupby='H3_annotation') \n",
    "sc.tl.rank_genes_groups(adata_subset2, groupby='H3_annotation') \n",
    "sc.tl.rank_genes_groups(adata_subset3, groupby='H3_annotation') \n",
    "sc.tl.rank_genes_groups(adata_subset4, groupby='H3_annotation') \n",
    "sc.tl.rank_genes_groups(adata_subset5, groupby='H3_annotation') "
   ]
  },
  {
   "cell_type": "code",
   "execution_count": 72,
   "metadata": {},
   "outputs": [
    {
     "name": "stderr",
     "output_type": "stream",
     "text": [
      "/Users/cyluo/anaconda3/envs/xuyuEnv/lib/python3.9/site-packages/pandas/core/arraylike.py:396: RuntimeWarning: divide by zero encountered in log10\n",
      "  result = getattr(ufunc, method)(*inputs, **kwargs)\n"
     ]
    }
   ],
   "source": [
    "result1 = adata_subset1.uns['rank_genes_groups']\n",
    "de_df1 = pd.DataFrame({\n",
    "    'gene': result1['names']['EN-IT-L2/3-A2'], \n",
    "    'log_fold_change': result1['logfoldchanges']['EN-IT-L2/3-A2'],\n",
    "    'pvals': result1['pvals']['EN-IT-L2/3-A2'],\n",
    "    'pvals_adj': result1['pvals_adj']['EN-IT-L2/3-A2']\n",
    "})\n",
    "de_df1['-log10_pval'] = -np.log10(de_df1['pvals_adj'])\n",
    "\n",
    "result2 = adata_subset2.uns['rank_genes_groups']\n",
    "de_df2 = pd.DataFrame({\n",
    "    'gene': result2['names']['EN-IT-L4-A'], \n",
    "    'log_fold_change': result2['logfoldchanges']['EN-IT-L4-A'],\n",
    "    'pvals': result2['pvals']['EN-IT-L4-A'],\n",
    "    'pvals_adj': result2['pvals_adj']['EN-IT-L4-A']\n",
    "})\n",
    "de_df2['-log10_pval'] = -np.log10(de_df2['pvals_adj'])\n",
    "\n",
    "result3 = adata_subset3.uns['rank_genes_groups']\n",
    "de_df3 = pd.DataFrame({\n",
    "    'gene': result3['names']['EN-IT-L4/5-1'], \n",
    "    'log_fold_change': result3['logfoldchanges']['EN-IT-L4/5-1'],\n",
    "    'pvals': result3['pvals']['EN-IT-L4/5-1'],\n",
    "    'pvals_adj': result3['pvals_adj']['EN-IT-L4/5-1']\n",
    "})\n",
    "de_df3['-log10_pval'] = -np.log10(de_df3['pvals_adj'])\n",
    "\n",
    "result4 = adata_subset4.uns['rank_genes_groups']\n",
    "de_df4 = pd.DataFrame({\n",
    "    'gene': result4['names']['EN-ET-L6-A'], \n",
    "    'log_fold_change': result4['logfoldchanges']['EN-ET-L6-A'],\n",
    "    'pvals': result4['pvals']['EN-ET-L6-A'],\n",
    "    'pvals_adj': result4['pvals_adj']['EN-ET-L6-A']\n",
    "})\n",
    "de_df4['-log10_pval'] = -np.log10(de_df4['pvals_adj'])\n",
    "\n",
    "result5 = adata_subset5.uns['rank_genes_groups']\n",
    "de_df5 = pd.DataFrame({\n",
    "    'gene': result5['names']['EN-ET-SP-A'], \n",
    "    'log_fold_change': result5['logfoldchanges']['EN-ET-SP-A'],\n",
    "    'pvals': result5['pvals']['EN-ET-SP-A'],\n",
    "    'pvals_adj': result5['pvals_adj']['EN-ET-SP-A']\n",
    "})\n",
    "de_df5['-log10_pval'] = -np.log10(de_df5['pvals_adj'])"
   ]
  },
  {
   "cell_type": "code",
   "execution_count": 73,
   "metadata": {},
   "outputs": [],
   "source": [
    "de_df1.to_csv('gene_output1.csv')\n",
    "de_df2.to_csv('gene_output2.csv')\n",
    "de_df3.to_csv('gene_output3.csv')\n",
    "de_df4.to_csv('gene_output4.csv')\n",
    "de_df5.to_csv('gene_output5.csv')"
   ]
  }
 ],
 "metadata": {
  "kernelspec": {
   "display_name": "iStarnew",
   "language": "python",
   "name": "python3"
  },
  "language_info": {
   "codemirror_mode": {
    "name": "ipython",
    "version": 3
   },
   "file_extension": ".py",
   "mimetype": "text/x-python",
   "name": "python",
   "nbconvert_exporter": "python",
   "pygments_lexer": "ipython3",
   "version": "3.9.18"
  }
 },
 "nbformat": 4,
 "nbformat_minor": 2
}
