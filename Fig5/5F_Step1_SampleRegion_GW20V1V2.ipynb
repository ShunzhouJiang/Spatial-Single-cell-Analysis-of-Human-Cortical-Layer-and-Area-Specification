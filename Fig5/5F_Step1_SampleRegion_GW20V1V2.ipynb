{
 "cells": [
  {
   "cell_type": "code",
   "execution_count": 2,
   "metadata": {},
   "outputs": [],
   "source": [
    "import scanpy as sc\n",
    "import matplotlib.pyplot as plt\n",
    "import numpy as np\n",
    "import pandas as pd\n",
    "import openpyxl"
   ]
  },
  {
   "cell_type": "code",
   "execution_count": 3,
   "metadata": {},
   "outputs": [
    {
     "data": {
      "text/plain": [
       "AnnData object with n_obs × n_vars = 8044446 × 300\n",
       "    obs: 'gw', 'sample', 'region', 'H1_annotation', 'H2_annotation', 'H3_annotation'\n",
       "    uns: 'rank_genes_groups'\n",
       "    obsm: 'spatial'"
      ]
     },
     "execution_count": 3,
     "metadata": {},
     "output_type": "execute_result"
    }
   ],
   "source": [
    "adata = sc.read_h5ad(\"/Users/cyluo/Library/CloudStorage/Box-Box/MERFISH Collaboration 3/clustering3/h5ad files/zenodo/gw20.h5ad\")\n",
    "adata"
   ]
  },
  {
   "cell_type": "code",
   "execution_count": 5,
   "metadata": {},
   "outputs": [
    {
     "name": "stdout",
     "output_type": "stream",
     "text": [
      "   H3_annotation\n",
      "0    EN-IT-L3-c0\n",
      "1    EN-IT-L3-c3\n",
      "2  EN-IT-L3/4-c3\n",
      "3  EN-IT-L3/4-c0\n",
      "4  EN-ET-L5/6-c4\n",
      "5  EN-ET-L5/6-c3\n",
      "6  EN-ET-SP-2-c1\n",
      "7  EN-ET-SP-2-c3\n"
     ]
    }
   ],
   "source": [
    "data_want = {'H3_annotation': ['EN-IT-L3-c0', 'EN-IT-L3-c3', 'EN-IT-L3/4-c3', \n",
    "                               'EN-IT-L3/4-c0', 'EN-ET-L5/6-c4', 'EN-ET-L5/6-c3', \n",
    "                               'EN-ET-SP-2-c1', 'EN-ET-SP-2-c3']}\n",
    "data_want = pd.DataFrame(data_want)\n",
    "print(data_want)"
   ]
  },
  {
   "cell_type": "code",
   "execution_count": 6,
   "metadata": {},
   "outputs": [
    {
     "name": "stdout",
     "output_type": "stream",
     "text": [
      "                              gw sample region H1_annotation H2_annotation  \\\n",
      "2241155200012100038-FB080-F1  20  FB080     F1         EN-IT      EN-IT-L3   \n",
      "2241155200012100039-FB080-F1  20  FB080     F1         EN-IT      EN-IT-L3   \n",
      "2241155200012100043-FB080-F1  20  FB080     F1         EN-IT      EN-IT-L3   \n",
      "2241155200012100048-FB080-F1  20  FB080     F1         EN-IT      EN-IT-L3   \n",
      "2241155200012100049-FB080-F1  20  FB080     F1         EN-IT      EN-IT-L3   \n",
      "...                           ..    ...    ...           ...           ...   \n",
      "2716793901372100090-FB080-T1  20  FB080     T1         EN-IT      EN-IT-L3   \n",
      "2716793901374100065-FB080-T1  20  FB080     T1         EN-IT      EN-IT-L3   \n",
      "2716793901410100051-FB080-T1  20  FB080     T1         EN-IT      EN-IT-L3   \n",
      "2716793901410100056-FB080-T1  20  FB080     T1         EN-IT      EN-IT-L3   \n",
      "2716793901413100111-FB080-T1  20  FB080     T1         EN-IT      EN-IT-L3   \n",
      "\n",
      "                             H3_annotation  \n",
      "2241155200012100038-FB080-F1   EN-IT-L3-c5  \n",
      "2241155200012100039-FB080-F1   EN-IT-L3-c5  \n",
      "2241155200012100043-FB080-F1   EN-IT-L3-c5  \n",
      "2241155200012100048-FB080-F1   EN-IT-L3-c5  \n",
      "2241155200012100049-FB080-F1   EN-IT-L3-c4  \n",
      "...                                    ...  \n",
      "2716793901372100090-FB080-T1   EN-IT-L3-c4  \n",
      "2716793901374100065-FB080-T1   EN-IT-L3-c2  \n",
      "2716793901410100051-FB080-T1   EN-IT-L3-c4  \n",
      "2716793901410100056-FB080-T1   EN-IT-L3-c4  \n",
      "2716793901413100111-FB080-T1   EN-IT-L3-c4  \n",
      "\n",
      "[244565 rows x 6 columns]\n"
     ]
    }
   ],
   "source": [
    "filtered_df = adata.obs[(adata.obs['H2_annotation'] == 'EN-IT-L3') ]\n",
    "print(filtered_df)"
   ]
  },
  {
   "cell_type": "code",
   "execution_count": 7,
   "metadata": {},
   "outputs": [
    {
     "name": "stdout",
     "output_type": "stream",
     "text": [
      "        gw sample region H1_annotation H2_annotation  H3_annotation\n",
      "0       20  FB080     F1         EN-IT    EN-IT-L3/4  EN-IT-L3/4-c0\n",
      "1       20  FB080     F1         EN-IT    EN-IT-L3/4  EN-IT-L3/4-c0\n",
      "2       20  FB080     F1         EN-IT    EN-IT-L3/4  EN-IT-L3/4-c0\n",
      "3       20  FB080     F1         EN-IT    EN-IT-L3/4  EN-IT-L3/4-c0\n",
      "4       20  FB080     F1         EN-IT    EN-IT-L3/4  EN-IT-L3/4-c0\n",
      "...     ..    ...    ...           ...           ...            ...\n",
      "434156  20  FB080     T1         EN-ET    EN-ET-SP-2  EN-ET-SP-2-c3\n",
      "434157  20  FB080     T1         EN-ET    EN-ET-SP-2  EN-ET-SP-2-c3\n",
      "434158  20  FB080     T1         EN-ET    EN-ET-SP-2  EN-ET-SP-2-c3\n",
      "434159  20  FB080     T1         EN-ET    EN-ET-SP-2  EN-ET-SP-2-c3\n",
      "434160  20  FB080     T1         EN-ET    EN-ET-SP-2  EN-ET-SP-2-c3\n",
      "\n",
      "[434161 rows x 6 columns]\n"
     ]
    }
   ],
   "source": [
    "# Create tuples for filtering\n",
    "filtered_adata_obs = pd.merge(adata.obs, data_want, on=['H3_annotation'])\n",
    "print(filtered_adata_obs)"
   ]
  },
  {
   "cell_type": "code",
   "execution_count": 10,
   "metadata": {},
   "outputs": [
    {
     "name": "stdout",
     "output_type": "stream",
     "text": [
      "        gw sample region H1_annotation H2_annotation  H3_annotation  \\\n",
      "0       20  FB080     F1         EN-IT    EN-IT-L3/4  EN-IT-L3/4-c0   \n",
      "1       20  FB080     F1         EN-IT    EN-IT-L3/4  EN-IT-L3/4-c0   \n",
      "2       20  FB080     F1         EN-IT    EN-IT-L3/4  EN-IT-L3/4-c0   \n",
      "3       20  FB080     F1         EN-IT    EN-IT-L3/4  EN-IT-L3/4-c0   \n",
      "4       20  FB080     F1         EN-IT    EN-IT-L3/4  EN-IT-L3/4-c0   \n",
      "...     ..    ...    ...           ...           ...            ...   \n",
      "434156  20  FB080     T1         EN-ET    EN-ET-SP-2  EN-ET-SP-2-c3   \n",
      "434157  20  FB080     T1         EN-ET    EN-ET-SP-2  EN-ET-SP-2-c3   \n",
      "434158  20  FB080     T1         EN-ET    EN-ET-SP-2  EN-ET-SP-2-c3   \n",
      "434159  20  FB080     T1         EN-ET    EN-ET-SP-2  EN-ET-SP-2-c3   \n",
      "434160  20  FB080     T1         EN-ET    EN-ET-SP-2  EN-ET-SP-2-c3   \n",
      "\n",
      "       sample_region New Experiment Name  \n",
      "0           FB080-F1            FB080-F1  \n",
      "1           FB080-F1            FB080-F1  \n",
      "2           FB080-F1            FB080-F1  \n",
      "3           FB080-F1            FB080-F1  \n",
      "4           FB080-F1            FB080-F1  \n",
      "...              ...                 ...  \n",
      "434156      FB080-T1            FB080-T1  \n",
      "434157      FB080-T1            FB080-T1  \n",
      "434158      FB080-T1            FB080-T1  \n",
      "434159      FB080-T1            FB080-T1  \n",
      "434160      FB080-T1            FB080-T1  \n",
      "\n",
      "[434161 rows x 8 columns]\n"
     ]
    }
   ],
   "source": [
    "# 1. Creating the 'sample_region' column\n",
    "filtered_adata_obs['sample_region'] = filtered_adata_obs['sample'].astype(str) + '-' + filtered_adata_obs['region'].astype(str)\n",
    "dict1 = {'UMB1367-P': 'UMB1367-P1', 'UMB1367-OP': 'UMB1367-O1', 'UMB1117-FP': 'UMB1117-F1a', 'UMB1117-FP-2': 'UMB1117-F1b', 'UMB1117-B-1': 'UMB1117-F2a', 'UMB1117-B-2': 'UMB1117-F2b', 'UMB1117-E-dorsal': 'UMB1117-P1', 'UMB1117-E-lateral': 'UMB1117-T1', 'UMB1117-G': 'UMB1117-O1', 'FB080-BD-230310': 'FB080-F1', 'FB080-C': 'FB080-F2a', 'FB080-C-2': 'FB080-F2b', 'FB080-F-dorsal-3': 'FB080-P1b', 'FB080-F-dorsal4': 'FB080-P1a', 'FB080-F-lateral': 'FB080-P2', 'FB080-F-ventral': 'FB080-T1', 'FB080-BA17': 'FB080-O1a', 'FB080-BA17-2': 'FB080-O1b', 'FB080-BA17-3': 'FB080-O1c', 'FB080-BA17-4': 'FB080-O1d', 'FB121-GW20-3A': 'FB121-F1', 'FB121-GW20-4A': 'FB121-F2', 'FB121-5A-GW20': 'FB121-P1', 'FB121-5C-rerun': 'FB121-T1', 'FB121-6A-230221': 'FB121-P2', 'FB121-BA17-GW20': 'FB121-O1', 'FB123-R2-2': 'FB123-F1', 'FB123-R3': 'FB123-F2', 'FB123-R4': 'FB123-F3', 'FB123-R5': 'FB123-P1', 'FB123-R6': 'FB123-O1', 'FB123-R6-2': 'FB123-O2', 'UMB5900-BA9': 'UMB5900-BA9', 'UMB5900-BA4': 'UMB5900-BA4', 'UMB5900-BA123': 'UMB5900-BA123', 'UMB5900-BA40': 'UMB5900-BA40a', 'UMB5900-BA40-2': 'UMB5900-BA40b', 'UMB5900-BA22': 'UMB5900-BA22', 'UMB5900-BA17': 'UMB5900-BA18'}\n",
    "filtered_adata_obs['New Experiment Name'] = filtered_adata_obs['sample_region'].replace(dict1)\n",
    "print(filtered_adata_obs)"
   ]
  },
  {
   "cell_type": "code",
   "execution_count": 11,
   "metadata": {},
   "outputs": [
    {
     "name": "stdout",
     "output_type": "stream",
     "text": [
      "   gw sample region H1_annotation H2_annotation  H3_annotation sample_region  \\\n",
      "0  20  FB080     F1         EN-IT    EN-IT-L3/4  EN-IT-L3/4-c0      FB080-F1   \n",
      "1  20  FB080     F1         EN-IT    EN-IT-L3/4  EN-IT-L3/4-c0      FB080-F1   \n",
      "2  20  FB080     F1         EN-IT    EN-IT-L3/4  EN-IT-L3/4-c0      FB080-F1   \n",
      "3  20  FB080     F1         EN-IT    EN-IT-L3/4  EN-IT-L3/4-c0      FB080-F1   \n",
      "4  20  FB080     F1         EN-IT    EN-IT-L3/4  EN-IT-L3/4-c0      FB080-F1   \n",
      "\n",
      "  New Experiment Name  GW Cortical area  \n",
      "0            FB080-F1  20           PFC  \n",
      "1            FB080-F1  20           PFC  \n",
      "2            FB080-F1  20           PFC  \n",
      "3            FB080-F1  20           PFC  \n",
      "4            FB080-F1  20           PFC  \n"
     ]
    }
   ],
   "source": [
    "meta_info = pd.read_excel(\"meta info.xlsx\")\n",
    "filtered_adata_obs = pd.merge(filtered_adata_obs, meta_info, on=['New Experiment Name'])\n",
    "print(filtered_adata_obs.head())"
   ]
  },
  {
   "cell_type": "code",
   "execution_count": 12,
   "metadata": {},
   "outputs": [],
   "source": [
    "merged_encluster_ca_H3 = filtered_adata_obs.groupby(['Cortical area', 'H3_annotation']).size().reset_index(name='ca_count')\n",
    "merged_encluster_ca_H3.to_csv(\"encluster_ca_H3.csv\", index=False)"
   ]
  },
  {
   "cell_type": "code",
   "execution_count": 14,
   "metadata": {},
   "outputs": [],
   "source": [
    "merged_encluster_H3 = filtered_adata_obs.groupby(['H3_annotation']).size().reset_index(name='H3_count')\n",
    "merged_encluster_H3.to_csv(\"encluster_H3.csv\", index=False)"
   ]
  },
  {
   "cell_type": "code",
   "execution_count": null,
   "metadata": {},
   "outputs": [],
   "source": [
    "count_ca_H3 = pd.merge(merged_encluster_ca_H3, merged_encluster_H3, on=[\"H3_annotation\"])\n",
    "count_ca_H3['percent'] = count_ca_H3['ca_count'] / count_ca_H3['H3_count']\n",
    "print(count_ca_H3.head)"
   ]
  }
 ],
 "metadata": {
  "kernelspec": {
   "display_name": "xuyuEnv",
   "language": "python",
   "name": "python3"
  },
  "language_info": {
   "codemirror_mode": {
    "name": "ipython",
    "version": 3
   },
   "file_extension": ".py",
   "mimetype": "text/x-python",
   "name": "python",
   "nbconvert_exporter": "python",
   "pygments_lexer": "ipython3",
   "version": "3.9.18"
  }
 },
 "nbformat": 4,
 "nbformat_minor": 2
}
