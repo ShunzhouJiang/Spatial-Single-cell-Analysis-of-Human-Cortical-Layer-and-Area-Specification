{
 "cells": [
  {
   "cell_type": "code",
   "execution_count": 1,
   "metadata": {},
   "outputs": [],
   "source": [
    "import scanpy as sc\n",
    "import matplotlib.pyplot as plt\n",
    "import numpy as np\n",
    "import pandas as pd\n",
    "import openpyxl"
   ]
  },
  {
   "cell_type": "code",
   "execution_count": null,
   "metadata": {},
   "outputs": [
    {
     "name": "stdout",
     "output_type": "stream",
     "text": [
      "AnnData object with n_obs × n_vars = 927296 × 1000\n",
      "    obs: 'gw', 'sample', 'region', 'area', 'layer', 'H1_annotation', 'H2_annotation', 'H3_annotation'\n",
      "    uns: 'log1p'\n",
      "    obsm: 'spatial'\n"
     ]
    }
   ],
   "source": [
    "adata = sc.read_h5ad(\"/Users/cyluo/Library/CloudStorage/Box-Box/MERFISH Collaboration 3/clustering3/h5ad files/zenodo/gw18_umb1759.h5ad\")\n",
    "print(adata)\n",
    "plot_df = adata.obs"
   ]
  },
  {
   "cell_type": "code",
   "execution_count": 5,
   "metadata": {},
   "outputs": [
    {
     "name": "stdout",
     "output_type": "stream",
     "text": [
      "                     gw   sample region  area layer H1_annotation  \\\n",
      "cell                                                                \n",
      "3204554500019100357  18  UMB1759   Occi  B-V2    mz            EC   \n",
      "3204554500019100394  18  UMB1759   Occi  B-V2    mz            EC   \n",
      "3204554500019100419  18  UMB1759   Occi  B-V2    mz            EC   \n",
      "3204554500019100438  18  UMB1759   Occi  B-V2    mz            EC   \n",
      "3204554500019100442  18  UMB1759   Occi  B-V2    mz            EC   \n",
      "\n",
      "                    H2_annotation H3_annotation  \n",
      "cell                                             \n",
      "3204554500019100357            MG           NaN  \n",
      "3204554500019100394            MG           NaN  \n",
      "3204554500019100419            MG           NaN  \n",
      "3204554500019100438            MG           NaN  \n",
      "3204554500019100442            MG           NaN  \n"
     ]
    }
   ],
   "source": [
    "plot_df = plot_df[plot_df['area'].isin([\"A-V1\", \"B-V2\", \"C-V2\"])]\n",
    "print(plot_df.head())"
   ]
  },
  {
   "cell_type": "code",
   "execution_count": 6,
   "metadata": {},
   "outputs": [
    {
     "name": "stderr",
     "output_type": "stream",
     "text": [
      "/var/folders/xz/tff3yvr92zz54zqk2m9jp1f00000gq/T/ipykernel_42676/2266015762.py:1: DeprecationWarning: is_categorical_dtype is deprecated and will be removed in a future version. Use isinstance(dtype, pd.CategoricalDtype) instead\n",
      "  pd.api.types.is_categorical_dtype(plot_df['area'])\n",
      "/var/folders/xz/tff3yvr92zz54zqk2m9jp1f00000gq/T/ipykernel_42676/2266015762.py:2: SettingWithCopyWarning: \n",
      "A value is trying to be set on a copy of a slice from a DataFrame.\n",
      "Try using .loc[row_indexer,col_indexer] = value instead\n",
      "\n",
      "See the caveats in the documentation: https://pandas.pydata.org/pandas-docs/stable/user_guide/indexing.html#returning-a-view-versus-a-copy\n",
      "  plot_df['area'] = plot_df['area'].cat.remove_categories(['B-V1'])\n"
     ]
    },
    {
     "data": {
      "text/plain": [
       "['B-V2', 'A-V1', 'C-V2']\n",
       "Categories (3, object): ['A-V1', 'B-V2', 'C-V2']"
      ]
     },
     "execution_count": 6,
     "metadata": {},
     "output_type": "execute_result"
    }
   ],
   "source": [
    "pd.api.types.is_categorical_dtype(plot_df['area'])\n",
    "plot_df['area'] = plot_df['area'].cat.remove_categories(['B-V1'])\n",
    "plot_df['area'].unique()"
   ]
  },
  {
   "cell_type": "code",
   "execution_count": 7,
   "metadata": {},
   "outputs": [
    {
     "name": "stdout",
     "output_type": "stream",
     "text": [
      "                     gw   sample region  area layer H1_annotation  \\\n",
      "cell                                                                \n",
      "3204554500063100183  18  UMB1759   Occi  B-V2    cp        EN-Mig   \n",
      "3204554500063100200  18  UMB1759   Occi  B-V2    cp        EN-Mig   \n",
      "3204554500063100213  18  UMB1759   Occi  B-V2    cp        EN-Mig   \n",
      "3204554500063100218  18  UMB1759   Occi  B-V2    cp        EN-Mig   \n",
      "3204554500063100238  18  UMB1759   Occi  B-V2    cp        EN-Mig   \n",
      "\n",
      "                    H2_annotation H3_annotation  \n",
      "cell                                             \n",
      "3204554500063100183       EN-IZ-5     EN-IZ-5-1  \n",
      "3204554500063100200       EN-IZ-1     EN-IZ-1-1  \n",
      "3204554500063100213       EN-IZ-5     EN-IZ-5-1  \n",
      "3204554500063100218       EN-IZ-5     EN-IZ-5-2  \n",
      "3204554500063100238       EN-IZ-5     EN-IZ-5-1  \n"
     ]
    }
   ],
   "source": [
    "# plot_df = plot_df[plot_df['H1_annotation'] == \"EN-IT\"]\n",
    "# plot_df = plot_df[plot_df['H1_annotation'] == \"EN-ET\"]\n",
    "plot_df = plot_df[plot_df['H1_annotation'] == \"EN-Mig\"]\n",
    "print(plot_df.head())"
   ]
  },
  {
   "cell_type": "code",
   "execution_count": 8,
   "metadata": {},
   "outputs": [
    {
     "name": "stderr",
     "output_type": "stream",
     "text": [
      "/var/folders/xz/tff3yvr92zz54zqk2m9jp1f00000gq/T/ipykernel_42676/289323888.py:1: FutureWarning: The default of observed=False is deprecated and will be changed to True in a future version of pandas. Pass observed=False to retain current behavior or observed=True to adopt the future default and silence this warning.\n",
      "  merged_encluster_area_H3 = plot_df.groupby(['area', 'H3_annotation']).size().reset_index(name='area_count')\n"
     ]
    }
   ],
   "source": [
    "merged_encluster_area_H3 = plot_df.groupby(['area', 'H3_annotation']).size().reset_index(name='area_count')\n",
    "merged_encluster_area_H3.to_csv(\"encluster_area_H3.csv\", index=False)"
   ]
  },
  {
   "cell_type": "code",
   "execution_count": 9,
   "metadata": {},
   "outputs": [
    {
     "name": "stdout",
     "output_type": "stream",
     "text": [
      "     area   H3_annotation  area_count\n",
      "0    A-V1  EN-ET-L5|6-1-0           0\n",
      "1    A-V1  EN-ET-L5|6-1-1           0\n",
      "2    A-V1  EN-ET-L5|6-1-2           0\n",
      "3    A-V1  EN-ET-L5|6-2-0           0\n",
      "4    A-V1  EN-ET-L5|6-2-1           0\n",
      "..    ...             ...         ...\n",
      "130  C-V2       EN-IZ-4-1          74\n",
      "131  C-V2       EN-IZ-4-2         352\n",
      "132  C-V2       EN-IZ-5-0         406\n",
      "133  C-V2       EN-IZ-5-1        6062\n",
      "134  C-V2       EN-IZ-5-2        2344\n",
      "\n",
      "[135 rows x 3 columns]\n"
     ]
    }
   ],
   "source": [
    "print(merged_encluster_area_H3)"
   ]
  },
  {
   "cell_type": "code",
   "execution_count": 10,
   "metadata": {},
   "outputs": [
    {
     "name": "stderr",
     "output_type": "stream",
     "text": [
      "/var/folders/xz/tff3yvr92zz54zqk2m9jp1f00000gq/T/ipykernel_42676/3562771557.py:1: FutureWarning: The default of observed=False is deprecated and will be changed to True in a future version of pandas. Pass observed=False to retain current behavior or observed=True to adopt the future default and silence this warning.\n",
      "  merged_encluster_H3 = plot_df.groupby(['H3_annotation']).size().reset_index(name='H3_count')\n"
     ]
    }
   ],
   "source": [
    "merged_encluster_H3 = plot_df.groupby(['H3_annotation']).size().reset_index(name='H3_count')\n",
    "merged_encluster_H3.to_csv(\"encluster_H3.csv\", index=False)"
   ]
  },
  {
   "cell_type": "code",
   "execution_count": 11,
   "metadata": {},
   "outputs": [
    {
     "name": "stdout",
     "output_type": "stream",
     "text": [
      "<bound method NDFrame.head of      area   H3_annotation  area_count  H3_count   percent\n",
      "0    A-V1  EN-ET-L5|6-1-0           0         0       NaN\n",
      "1    B-V2  EN-ET-L5|6-1-0           0         0       NaN\n",
      "2    C-V2  EN-ET-L5|6-1-0           0         0       NaN\n",
      "3    A-V1  EN-ET-L5|6-1-1           0         0       NaN\n",
      "4    B-V2  EN-ET-L5|6-1-1           0         0       NaN\n",
      "..    ...             ...         ...       ...       ...\n",
      "130  B-V2       EN-IZ-5-1        5558     13638  0.407538\n",
      "131  C-V2       EN-IZ-5-1        6062     13638  0.444493\n",
      "132  A-V1       EN-IZ-5-2         516      4598  0.112223\n",
      "133  B-V2       EN-IZ-5-2        1738      4598  0.377990\n",
      "134  C-V2       EN-IZ-5-2        2344      4598  0.509787\n",
      "\n",
      "[135 rows x 5 columns]>\n"
     ]
    }
   ],
   "source": [
    "count_area_H3 = pd.merge(merged_encluster_area_H3, merged_encluster_H3, on=\"H3_annotation\")\n",
    "count_area_H3['percent'] = count_area_H3['area_count'] / count_area_H3['H3_count']\n",
    "print(count_area_H3.head)"
   ]
  },
  {
   "cell_type": "code",
   "execution_count": 12,
   "metadata": {},
   "outputs": [
    {
     "name": "stdout",
     "output_type": "stream",
     "text": [
      "   H3_annotation  percent_sum\n",
      "30     EN-IZ-1-0          1.0\n",
      "31     EN-IZ-1-1          1.0\n",
      "32     EN-IZ-1-2          1.0\n",
      "33     EN-IZ-2-0          1.0\n",
      "34     EN-IZ-2-1          1.0\n",
      "35     EN-IZ-2-2          1.0\n",
      "36     EN-IZ-3-0          1.0\n",
      "37     EN-IZ-3-1          1.0\n",
      "38     EN-IZ-3-2          1.0\n",
      "39     EN-IZ-4-0          1.0\n",
      "40     EN-IZ-4-1          1.0\n",
      "41     EN-IZ-4-2          1.0\n",
      "42     EN-IZ-5-0          1.0\n",
      "43     EN-IZ-5-1          1.0\n",
      "44     EN-IZ-5-2          1.0\n"
     ]
    },
    {
     "name": "stderr",
     "output_type": "stream",
     "text": [
      "/var/folders/xz/tff3yvr92zz54zqk2m9jp1f00000gq/T/ipykernel_42676/2702131538.py:2: FutureWarning: The default of observed=False is deprecated and will be changed to True in a future version of pandas. Pass observed=False to retain current behavior or observed=True to adopt the future default and silence this warning.\n",
      "  percent_sum_check = count_area_H3.groupby('H3_annotation')['percent'].sum().reset_index(name='percent_sum')\n"
     ]
    }
   ],
   "source": [
    "# Check the sum of the 'percent' column for each 'H3_annotation'\n",
    "percent_sum_check = count_area_H3.groupby('H3_annotation')['percent'].sum().reset_index(name='percent_sum')\n",
    "percent_sum_check = percent_sum_check[percent_sum_check['percent_sum'] != 0]\n",
    "# Display the sums to check if any do not equal 1\n",
    "print(percent_sum_check)"
   ]
  },
  {
   "cell_type": "code",
   "execution_count": 73,
   "metadata": {},
   "outputs": [
    {
     "name": "stdout",
     "output_type": "stream",
     "text": [
      "    area H3_annotation  area_count  H3_count   percent\n",
      "90  A-V1     EN-IZ-1-0          19       105  0.180952\n",
      "91  B-V2     EN-IZ-1-0          54       105  0.514286\n",
      "92  C-V2     EN-IZ-1-0          32       105  0.304762\n",
      "93  A-V1     EN-IZ-1-1         111       911  0.121844\n",
      "94  B-V2     EN-IZ-1-1         420       911  0.461032\n"
     ]
    }
   ],
   "source": [
    "# Get the list of H2_annotation values where percent_sum == 1\n",
    "valid_annotations = percent_sum_check[percent_sum_check['percent_sum'] == 1]['H3_annotation']\n",
    "\n",
    "# Filter count_area_H2 to only keep rows with valid H2_annotation\n",
    "filtered_count_area_H3 = count_area_H3[count_area_H3['H3_annotation'].isin(valid_annotations)]\n",
    "\n",
    "# Print the filtered DataFrame\n",
    "print(filtered_count_area_H3.head())\n"
   ]
  },
  {
   "cell_type": "code",
   "execution_count": 74,
   "metadata": {},
   "outputs": [],
   "source": [
    "filtered_count_area_H3.to_csv(\"H3area_histogram.csv\")"
   ]
  }
 ],
 "metadata": {
  "kernelspec": {
   "display_name": "xuyuEnv",
   "language": "python",
   "name": "python3"
  },
  "language_info": {
   "codemirror_mode": {
    "name": "ipython",
    "version": 3
   },
   "file_extension": ".py",
   "mimetype": "text/x-python",
   "name": "python",
   "nbconvert_exporter": "python",
   "pygments_lexer": "ipython3",
   "version": "3.9.18"
  }
 },
 "nbformat": 4,
 "nbformat_minor": 2
}
