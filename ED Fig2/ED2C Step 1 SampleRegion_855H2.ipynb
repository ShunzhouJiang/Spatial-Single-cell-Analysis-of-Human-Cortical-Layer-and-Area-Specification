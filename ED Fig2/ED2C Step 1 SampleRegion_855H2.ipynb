{
 "cells": [
  {
   "cell_type": "code",
   "execution_count": 12,
   "metadata": {},
   "outputs": [],
   "source": [
    "import scanpy as sc\n",
    "import matplotlib.pyplot as plt\n",
    "import numpy as np\n",
    "import pandas as pd\n",
    "import openpyxl"
   ]
  },
  {
   "cell_type": "code",
   "execution_count": 13,
   "metadata": {},
   "outputs": [
    {
     "name": "stdout",
     "output_type": "stream",
     "text": [
      "AnnData object with n_obs × n_vars = 15927370 × 300\n",
      "    obs: 'gw', 'sample', 'region', 'area', 'layer', 'H1_annotation', 'H2_annotation', 'H3_annotation', 'relative_height', 'cortical_depth'\n",
      "    uns: 'rank_genes_groups'\n",
      "    obsm: 'spatial'\n"
     ]
    },
    {
     "name": "stderr",
     "output_type": "stream",
     "text": [
      "/Users/cyluo/anaconda3/envs/xuyuEnv/lib/python3.9/site-packages/anndata/_core/anndata.py:1897: UserWarning: Observation names are not unique. To make them unique, call `.obs_names_make_unique`.\n",
      "  utils.warn_names_duplicates(\"obs\")\n"
     ]
    }
   ],
   "source": [
    "adata = sc.read_h5ad(\"/Users/cyluo/Library/CloudStorage/Box-Box/MERFISH Collaboration 3/clustering3/h5ad files/zenodo/merscope_integrated_855.h5ad\")\n",
    "print(adata)"
   ]
  },
  {
   "cell_type": "code",
   "execution_count": 14,
   "metadata": {},
   "outputs": [
    {
     "name": "stdout",
     "output_type": "stream",
     "text": [
      "AnnData object with n_obs × n_vars = 15927370 × 300\n",
      "    obs: 'gw', 'sample', 'region', 'area', 'layer', 'H1_annotation', 'H2_annotation', 'H3_annotation', 'relative_height', 'cortical_depth'\n",
      "    uns: 'rank_genes_groups'\n",
      "    obsm: 'spatial'\n"
     ]
    }
   ],
   "source": [
    "adata.obs.index = adata.obs.index.map(lambda x: x.split('-')[0])\n",
    "print(adata)"
   ]
  },
  {
   "cell_type": "code",
   "execution_count": 17,
   "metadata": {},
   "outputs": [
    {
     "name": "stdout",
     "output_type": "stream",
     "text": [
      "                     gw   sample region area layer H1_annotation  \\\n",
      "2241155200012100016  20    FB080     F1  NaN   NaN         EN-IT   \n",
      "2241155200012100018  20    FB080     F1  NaN   NaN         EN-IT   \n",
      "2241155200012100021  20    FB080     F1  NaN   NaN        EN-Mig   \n",
      "2241155200012100028  20    FB080     F1  NaN   NaN         EN-IT   \n",
      "2241155200012100030  20    FB080     F1  NaN   NaN         EN-IT   \n",
      "...                  ..      ...    ...  ...   ...           ...   \n",
      "2655870701320100026  34  UMB5900  BA40b  NaN   NaN         EN-ET   \n",
      "2655870701326100057  34  UMB5900  BA40b  NaN   NaN        EN-Mig   \n",
      "2655870701326100064  34  UMB5900  BA40b  NaN   NaN          Glia   \n",
      "2655870701326100070  34  UMB5900  BA40b  NaN   NaN            EC   \n",
      "2655870701326100096  34  UMB5900  BA40b  NaN   NaN          Glia   \n",
      "\n",
      "                    H2_annotation  H3_annotation  relative_height  \\\n",
      "2241155200012100016    EN-IT-L2/3    EN-IT-L3-V1              NaN   \n",
      "2241155200012100018    EN-IT-L2/3    EN-IT-L3-V1              NaN   \n",
      "2241155200012100021         EN-L2        EN-IZ-3              NaN   \n",
      "2241155200012100028    EN-IT-L2/3  EN-IT-L2/3-A2              NaN   \n",
      "2241155200012100030    EN-IT-L2/3     EN-IT-L3-A              NaN   \n",
      "...                           ...            ...              ...   \n",
      "2655870701320100026    EN-ET-SP-P     EN-ET-SP-1              NaN   \n",
      "2655870701326100057       EN-IZ-2        EN-IZ-2              NaN   \n",
      "2655870701326100064       Astro-1        Astro-1              NaN   \n",
      "2655870701326100070            EC             EC              NaN   \n",
      "2655870701326100096       Astro-1    Astro-late3              NaN   \n",
      "\n",
      "                     cortical_depth  sample_region  \n",
      "2241155200012100016             NaN       FB080-F1  \n",
      "2241155200012100018             NaN       FB080-F1  \n",
      "2241155200012100021             NaN       FB080-F1  \n",
      "2241155200012100028             NaN       FB080-F1  \n",
      "2241155200012100030             NaN       FB080-F1  \n",
      "...                             ...            ...  \n",
      "2655870701320100026             NaN  UMB5900-BA40b  \n",
      "2655870701326100057             NaN  UMB5900-BA40b  \n",
      "2655870701326100064             NaN  UMB5900-BA40b  \n",
      "2655870701326100070             NaN  UMB5900-BA40b  \n",
      "2655870701326100096             NaN  UMB5900-BA40b  \n",
      "\n",
      "[15927370 rows x 11 columns]\n"
     ]
    }
   ],
   "source": [
    "# 1. Creating the 'sample_region' column\n",
    "adata.obs['sample_region'] = adata.obs['sample'].astype(str) + '-' + adata.obs['region'].astype(str)\n",
    "print(adata.obs)"
   ]
  },
  {
   "cell_type": "code",
   "execution_count": 18,
   "metadata": {},
   "outputs": [
    {
     "name": "stderr",
     "output_type": "stream",
     "text": [
      "/var/folders/xz/tff3yvr92zz54zqk2m9jp1f00000gq/T/ipykernel_28028/1894234099.py:2: FutureWarning: The default of observed=False is deprecated and will be changed to True in a future version of pandas. Pass observed=False to retain current behavior or observed=True to adopt the future default and silence this warning.\n",
      "  merged_encluster_sr_H2 = plot_df.groupby(['sample_region', 'H2_annotation']).size().reset_index(name='sr_count')\n"
     ]
    }
   ],
   "source": [
    "plot_df = adata.obs\n",
    "merged_encluster_sr_H2 = plot_df.groupby(['sample_region', 'H2_annotation']).size().reset_index(name='sr_count')\n",
    "merged_encluster_sr_H2.to_csv(\"encluster_sr_H2.csv\", index=False)"
   ]
  },
  {
   "cell_type": "code",
   "execution_count": 19,
   "metadata": {},
   "outputs": [
    {
     "name": "stderr",
     "output_type": "stream",
     "text": [
      "/var/folders/xz/tff3yvr92zz54zqk2m9jp1f00000gq/T/ipykernel_28028/2322436814.py:1: FutureWarning: The default of observed=False is deprecated and will be changed to True in a future version of pandas. Pass observed=False to retain current behavior or observed=True to adopt the future default and silence this warning.\n",
      "  merged_encluster_H2 = plot_df.groupby(['H2_annotation']).size().reset_index(name='H2_count')\n"
     ]
    }
   ],
   "source": [
    "merged_encluster_H2 = plot_df.groupby(['H2_annotation']).size().reset_index(name='H2_count')\n",
    "merged_encluster_H2.to_csv(\"encluster_H2.csv\", index=False)"
   ]
  },
  {
   "cell_type": "code",
   "execution_count": 20,
   "metadata": {},
   "outputs": [
    {
     "name": "stdout",
     "output_type": "stream",
     "text": [
      "<bound method NDFrame.head of       sample_region H2_annotation  sr_count  H2_count   percent\n",
      "0          FB080-F1       Astro-1      7620    291042  0.026182\n",
      "1         FB080-F2a       Astro-1      8698    291042  0.029886\n",
      "2         FB080-F2b       Astro-1      6803    291042  0.023375\n",
      "3         FB080-O1a       Astro-1      1413    291042  0.004855\n",
      "4         FB080-O1b       Astro-1      1306    291042  0.004487\n",
      "...             ...           ...       ...       ...       ...\n",
      "1282   UMB5900-BA22      vRG-late     13338    278120  0.047958\n",
      "1283    UMB5900-BA4      vRG-late      8397    278120  0.030192\n",
      "1284  UMB5900-BA40a      vRG-late     11777    278120  0.042345\n",
      "1285  UMB5900-BA40b      vRG-late     10586    278120  0.038063\n",
      "1286    UMB5900-BA9      vRG-late     10563    278120  0.037980\n",
      "\n",
      "[1287 rows x 5 columns]>\n"
     ]
    }
   ],
   "source": [
    "count_sr_H2 = pd.merge(merged_encluster_sr_H2, merged_encluster_H2, on=\"H2_annotation\")\n",
    "count_sr_H2['percent'] = count_sr_H2['sr_count'] / count_sr_H2['H2_count']\n",
    "print(count_sr_H2.head)"
   ]
  },
  {
   "cell_type": "code",
   "execution_count": 21,
   "metadata": {},
   "outputs": [
    {
     "name": "stdout",
     "output_type": "stream",
     "text": [
      "     H2_annotation  percent_sum\n",
      "0          Astro-1          1.0\n",
      "1      Astro-late1          1.0\n",
      "2               EC          1.0\n",
      "3       EN-ET-L5/6          1.0\n",
      "4   EN-ET-L6-early          1.0\n",
      "5         EN-ET-SP          1.0\n",
      "6       EN-ET-SP-P          1.0\n",
      "7   EN-ET-SP-early          1.0\n",
      "8       EN-IT-L2/3          1.0\n",
      "9       EN-IT-L3/4          1.0\n",
      "10        EN-IT-L4          1.0\n",
      "11      EN-IT-L4/5          1.0\n",
      "12        EN-IT-L6          1.0\n",
      "13         EN-IZ-1          1.0\n",
      "14         EN-IZ-2          1.0\n",
      "15           EN-L2          1.0\n",
      "16       EN-oSVZ-1          1.0\n",
      "17       En-oSVZ-2          1.0\n",
      "18          IN-CGE          1.0\n",
      "19          IN-MGE          1.0\n",
      "20          IN-SST          1.0\n",
      "21        IN-VZ/GE          1.0\n",
      "22       INP-VZ/GE          1.0\n",
      "23       IPC-SVZ-1          1.0\n",
      "24       IPC-SVZ-2          1.0\n",
      "25      IPC-VZ/SVZ          1.0\n",
      "26        IPC-iSVZ          1.0\n",
      "27        IPC-oSVZ          1.0\n",
      "28             OPC          1.0\n",
      "29             RG1          1.0\n",
      "30            oRG1          1.0\n",
      "31             tRG          1.0\n",
      "32        vRG-late          1.0\n"
     ]
    },
    {
     "name": "stderr",
     "output_type": "stream",
     "text": [
      "/var/folders/xz/tff3yvr92zz54zqk2m9jp1f00000gq/T/ipykernel_28028/2531004775.py:2: FutureWarning: The default of observed=False is deprecated and will be changed to True in a future version of pandas. Pass observed=False to retain current behavior or observed=True to adopt the future default and silence this warning.\n",
      "  percent_sum_check = count_sr_H2.groupby('H2_annotation')['percent'].sum().reset_index(name='percent_sum')\n"
     ]
    }
   ],
   "source": [
    "# Check the sum of the 'percent' column for each 'H2_annotation'\n",
    "percent_sum_check = count_sr_H2.groupby('H2_annotation')['percent'].sum().reset_index(name='percent_sum')\n",
    "\n",
    "# Display the sums to check if any do not equal 1\n",
    "print(percent_sum_check)"
   ]
  },
  {
   "cell_type": "code",
   "execution_count": 22,
   "metadata": {},
   "outputs": [],
   "source": [
    "count_sr_H2.to_csv(\"H2sr_histogram.csv\")"
   ]
  }
 ],
 "metadata": {
  "kernelspec": {
   "display_name": "xuyuEnv",
   "language": "python",
   "name": "python3"
  },
  "language_info": {
   "codemirror_mode": {
    "name": "ipython",
    "version": 3
   },
   "file_extension": ".py",
   "mimetype": "text/x-python",
   "name": "python",
   "nbconvert_exporter": "python",
   "pygments_lexer": "ipython3",
   "version": "3.9.18"
  }
 },
 "nbformat": 4,
 "nbformat_minor": 2
}
