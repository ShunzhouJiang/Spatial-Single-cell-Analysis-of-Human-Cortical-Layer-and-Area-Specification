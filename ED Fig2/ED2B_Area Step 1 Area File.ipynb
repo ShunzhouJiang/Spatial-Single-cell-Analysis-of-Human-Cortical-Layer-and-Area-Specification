{
 "cells": [
  {
   "cell_type": "code",
   "execution_count": 1,
   "metadata": {},
   "outputs": [],
   "source": [
    "import scanpy as sc\n",
    "import pandas as pd\n",
    "import matplotlib.pyplot as plt"
   ]
  },
  {
   "cell_type": "code",
   "execution_count": 2,
   "metadata": {},
   "outputs": [
    {
     "name": "stderr",
     "output_type": "stream",
     "text": [
      "/Users/cyluo/anaconda3/envs/xuyuEnv/lib/python3.9/site-packages/anndata/_core/anndata.py:1897: UserWarning: Observation names are not unique. To make them unique, call `.obs_names_make_unique`.\n",
      "  utils.warn_names_duplicates(\"obs\")\n"
     ]
    }
   ],
   "source": [
    "adata = sc.read_h5ad(\"/Users/cyluo/Library/CloudStorage/Box-Box/MERFISH Collaboration 3/clustering3/h5ad files/zenodo/merscope_integrated_855.h5ad\")\n",
    "filtered_adata = adata[adata.obs['H1_annotation'].isin([\"EN-IT\", \"EN-ET\", \"EN-Mig\"])]"
   ]
  },
  {
   "cell_type": "code",
   "execution_count": 9,
   "metadata": {},
   "outputs": [
    {
     "name": "stderr",
     "output_type": "stream",
     "text": [
      "/Users/cyluo/anaconda3/envs/xuyuEnv/lib/python3.9/site-packages/anndata/_core/anndata.py:1897: UserWarning: Observation names are not unique. To make them unique, call `.obs_names_make_unique`.\n",
      "  utils.warn_names_duplicates(\"obs\")\n"
     ]
    },
    {
     "name": "stdout",
     "output_type": "stream",
     "text": [
      "                    sample region sample_region\n",
      "2241155200012100016  FB080     F1      FB080-F1\n",
      "2241155200012100018  FB080     F1      FB080-F1\n",
      "2241155200012100021  FB080     F1      FB080-F1\n",
      "2241155200012100028  FB080     F1      FB080-F1\n",
      "2241155200012100030  FB080     F1      FB080-F1\n"
     ]
    }
   ],
   "source": [
    "filtered_adata = filtered_adata[~filtered_adata.obs['sample'].isna() & ~filtered_adata.obs['region'].isna()].copy()\n",
    "filtered_adata.obs['sample'] = filtered_adata.obs['sample'].astype(str)\n",
    "filtered_adata.obs['region'] = filtered_adata.obs['region'].astype(str)\n",
    "filtered_adata.obs['sample_region'] = filtered_adata.obs['sample'] + '-' + filtered_adata.obs['region']\n",
    "print(filtered_adata.obs[['sample', 'region', 'sample_region']].head())"
   ]
  },
  {
   "cell_type": "code",
   "execution_count": 10,
   "metadata": {},
   "outputs": [],
   "source": [
    "cortical_area = pd.read_excel(\"cortical_area.xlsx\")"
   ]
  },
  {
   "cell_type": "code",
   "execution_count": 11,
   "metadata": {},
   "outputs": [],
   "source": [
    "merged_encluster = filtered_adata.obs.merge(cortical_area, on='sample_region')"
   ]
  },
  {
   "cell_type": "code",
   "execution_count": 12,
   "metadata": {},
   "outputs": [
    {
     "name": "stdout",
     "output_type": "stream",
     "text": [
      "  cortical_area  ca_count\n",
      "0          Occi   2709245\n",
      "1           PFC   1955971\n",
      "2        PMC/M1    822868\n",
      "3           Par   2568061\n",
      "4          Temp    809531\n"
     ]
    }
   ],
   "source": [
    "merged_encluster_ca = merged_encluster.groupby('cortical_area').size().reset_index(name='ca_count')\n",
    "merged_encluster_ca.to_csv(\"encluster_ca.csv\", index=False)\n",
    "print(merged_encluster_ca.head())"
   ]
  }
 ],
 "metadata": {
  "kernelspec": {
   "display_name": "xuyuEnv",
   "language": "python",
   "name": "python3"
  },
  "language_info": {
   "codemirror_mode": {
    "name": "ipython",
    "version": 3
   },
   "file_extension": ".py",
   "mimetype": "text/x-python",
   "name": "python",
   "nbconvert_exporter": "python",
   "pygments_lexer": "ipython3",
   "version": "3.9.18"
  }
 },
 "nbformat": 4,
 "nbformat_minor": 2
}
