{
 "cells": [
  {
   "cell_type": "code",
   "execution_count": 2,
   "metadata": {},
   "outputs": [],
   "source": [
    "import scanpy as sc\n",
    "import pandas as pd\n",
    "import matplotlib.pyplot as plt"
   ]
  },
  {
   "cell_type": "code",
   "execution_count": 3,
   "metadata": {},
   "outputs": [
    {
     "name": "stderr",
     "output_type": "stream",
     "text": [
      "/Users/cyluo/anaconda3/envs/xuyuEnv/lib/python3.9/site-packages/anndata/_core/anndata.py:1897: UserWarning: Observation names are not unique. To make them unique, call `.obs_names_make_unique`.\n",
      "  utils.warn_names_duplicates(\"obs\")\n"
     ]
    }
   ],
   "source": [
    "adata = sc.read_h5ad(\"/Users/cyluo/Library/CloudStorage/Box-Box/MERFISH Collaboration 3/clustering3/h5ad files/zenodo/merscope_integrated_855.h5ad\")\n",
    "filtered_adata = adata[adata.obs['H1_annotation'].isin([\"EN-IT\", \"EN-ET\", \"EN-Mig\"])]"
   ]
  },
  {
   "cell_type": "code",
   "execution_count": 5,
   "metadata": {},
   "outputs": [
    {
     "name": "stderr",
     "output_type": "stream",
     "text": [
      "/Users/cyluo/anaconda3/envs/xuyuEnv/lib/python3.9/site-packages/anndata/_core/anndata.py:1897: UserWarning: Observation names are not unique. To make them unique, call `.obs_names_make_unique`.\n",
      "  utils.warn_names_duplicates(\"obs\")\n"
     ]
    },
    {
     "name": "stdout",
     "output_type": "stream",
     "text": [
      "                    sample region sample_region\n",
      "2241155200012100016  FB080     F1      FB080-F1\n",
      "2241155200012100018  FB080     F1      FB080-F1\n",
      "2241155200012100021  FB080     F1      FB080-F1\n",
      "2241155200012100028  FB080     F1      FB080-F1\n",
      "2241155200012100030  FB080     F1      FB080-F1\n"
     ]
    }
   ],
   "source": [
    "filtered_adata = filtered_adata[~filtered_adata.obs['sample'].isna() & ~filtered_adata.obs['region'].isna()].copy()\n",
    "filtered_adata.obs['sample'] = filtered_adata.obs['sample'].astype(str)\n",
    "filtered_adata.obs['region'] = filtered_adata.obs['region'].astype(str)\n",
    "filtered_adata.obs['sample_region'] = filtered_adata.obs['sample'] + '-' + filtered_adata.obs['region']\n",
    "print(filtered_adata.obs[['sample', 'region', 'sample_region']].head())"
   ]
  },
  {
   "cell_type": "code",
   "execution_count": 6,
   "metadata": {},
   "outputs": [],
   "source": [
    "cortical_area = pd.read_excel(\"cortical_area.xlsx\")\n",
    "merged_encluster = filtered_adata.obs.merge(cortical_area, on='sample_region')"
   ]
  },
  {
   "cell_type": "code",
   "execution_count": 10,
   "metadata": {},
   "outputs": [],
   "source": [
    "levels = [\n",
    "    \"EN-ET-SP-early1\", \"EN-ET-SP-early2\", \"EN-ET-SP-early3\", \"EN-ET-L6-early4\", \n",
    "    \"EN-ET-SP-2\", \"EN-ET-SP-A\", \"EN-ET-L5-1\", \"EN-ET-L6-A\", \"EN-ET-SP-3\", \n",
    "    \"EN-ET-SP-4\", \"EN-ET-L6-early3\", \"EN-ET-SP-P2\", \"EN-ET-SP-1\", \"EN-ET-SP-5\", \n",
    "    \"EN-ET-L6-early5\", \"EN-ET-SP-P1\", \"EN-ET-L6-early2\", \"EN-ET-SP-early4\", \n",
    "    \"EN-ET-SP-early5\", \"EN-ET-L6-early1\", \"EN-ET-L5/6\", \"EN-ET-L6-P\", \n",
    "    \"EN-ET-SP-V1T1\", \"EN-ET-SP-V1T2\", \"EN-ET-L6-V1\", \"EN-IT-L3/4-1\", \n",
    "    \"EN-IT-L2/3-A2\", \"EN-IT-L3-A\", \"EN-IT-L4/5-1\", \"EN-IT-L4/5-early\", \n",
    "    \"EN-IT-L2/3-A1\", \"EN-IT-L6-2\", \"EN-IT-L4-A\", \"EN-IT-L5-1\", \"EN-IT-L5/6-P\", \n",
    "    \"EN-IT-L4-late\", \"EN-IT-L6-1\", \"EN-IT-L4/5-late\", \"EN-IT-Hip\", \"EN-IT-L3-late\", \n",
    "    \"EN-IT-L3/4-early\", \"EN-IT-L3/4-T\", \"EN-IT-L3/4-P2\", \"EN-IT-L4-1\", \n",
    "    \"EN-IT-L3-V1\", \"EN-IT-L4-V1\", \"EN-IT-L3/4-P\", \"EN-IT-L6-late\", \n",
    "    \"EN-IT-L3-P\", \"EN-IZ-2\", \"EN-IZ-3\", \"EN-oSVZ-1\", \"EN-IZ-1\", \"EN-L2-2\", \n",
    "    \"En-oSVZ-2\", \"EN-L2-3\", \"EN-L2-1\", \"EN-L2-4\"\n",
    "]"
   ]
  },
  {
   "cell_type": "code",
   "execution_count": null,
   "metadata": {},
   "outputs": [
    {
     "name": "stdout",
     "output_type": "stream",
     "text": [
      "    sample  sample_count\n",
      "0  UMB1117       1783705\n",
      "1  UMB1367        792168\n",
      "2    FB080       2493777\n",
      "3    FB121       1598410\n",
      "4    FB123       1559122\n"
     ]
    },
    {
     "name": "stderr",
     "output_type": "stream",
     "text": [
      "/var/folders/xz/tff3yvr92zz54zqk2m9jp1f00000gq/T/ipykernel_9294/3050882977.py:6: FutureWarning: The default of observed=False is deprecated and will be changed to True in a future version of pandas. Pass observed=False to retain current behavior or observed=True to adopt the future default and silence this warning.\n",
      "  merged_encluster_sample = merged_encluster.groupby('sample').size().reset_index(name='sample_count')\n"
     ]
    }
   ],
   "source": [
    "merged_encluster['H3_annotation'] = pd.Categorical(\n",
    "    merged_encluster['H3_annotation'],\n",
    "    categories=levels,\n",
    "    ordered=True\n",
    ")\n",
    "merged_encluster_sample = merged_encluster.groupby('sample').size().reset_index(name='sample_count')\n",
    "merged_encluster_sample.to_csv(\"encluster_sample.csv\", index=False)"
   ]
  }
 ],
 "metadata": {
  "kernelspec": {
   "display_name": "xuyuEnv",
   "language": "python",
   "name": "python3"
  },
  "language_info": {
   "codemirror_mode": {
    "name": "ipython",
    "version": 3
   },
   "file_extension": ".py",
   "mimetype": "text/x-python",
   "name": "python",
   "nbconvert_exporter": "python",
   "pygments_lexer": "ipython3",
   "version": "3.9.18"
  }
 },
 "nbformat": 4,
 "nbformat_minor": 2
}
