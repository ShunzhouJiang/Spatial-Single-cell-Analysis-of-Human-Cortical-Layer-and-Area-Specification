{
 "cells": [
  {
   "cell_type": "code",
   "execution_count": 1,
   "metadata": {},
   "outputs": [],
   "source": [
    "import os              \n",
    "os.environ['PYTHONHASHSEED'] = '0'\n",
    "import pandas as pd                                                    \n",
    "import numpy as np                                                     \n",
    "import scanpy as sc                                                                                 \n",
    "from time import time                                                       \n",
    "import sys\n",
    "import matplotlib\n",
    "\n",
    "import matplotlib.pyplot as plt\n",
    "from anndata import AnnData, read_h5ad, concat\n",
    "from tqdm import tqdm\n",
    "import scipy\n",
    "import scipy.stats as ss"
   ]
  },
  {
   "cell_type": "code",
   "execution_count": 2,
   "metadata": {},
   "outputs": [
    {
     "name": "stderr",
     "output_type": "stream",
     "text": [
      "/Users/shunzhou/opt/anaconda3/lib/python3.9/site-packages/anndata/_core/anndata.py:1828: UserWarning: Observation names are not unique. To make them unique, call `.obs_names_make_unique`.\n",
      "  utils.warn_names_duplicates(\"obs\")\n"
     ]
    }
   ],
   "source": [
    "adata = read_h5ad(\"norm_exp.h5ad\")"
   ]
  },
  {
   "cell_type": "code",
   "execution_count": 3,
   "metadata": {},
   "outputs": [],
   "source": [
    "def change_name(name):\n",
    "    if \"-\" in name:\n",
    "        name = name[(name.find(\"-\") + 1):]\n",
    "    return name\n",
    "\n",
    "adata.obs['area'] = list(map(change_name, adata.obs['area']))\n",
    "adata = adata[adata.obs['area'].isin(['PFC', 'V2', 'Par', 'V1', 'M1', 'Temp'])]\n",
    "adata = adata[adata.obs['gw'].isin(['gw20', 'gw22'])]\n",
    "adata_sub = adata[adata.obs['H1_annotation'].isin(['EN-IT', 'EN-ET'])].copy()"
   ]
  },
  {
   "cell_type": "code",
   "execution_count": 4,
   "metadata": {},
   "outputs": [],
   "source": [
    "def expr_tot(adata):\n",
    "    area_uniq = np.unique(adata.obs['area'])\n",
    "    area_expr = []\n",
    "    for i in range(len(area_uniq)):\n",
    "        adata_area = adata[adata.obs['area'] == area_uniq[i]]\n",
    "        avg_area = adata_area.X.mean(axis = 0)\n",
    "        area_expr.append(avg_area)\n",
    "    area_expr = np.array(area_expr).T\n",
    "    area_expr = pd.DataFrame(area_expr)\n",
    "    area_expr.index = adata.var.index\n",
    "    area_expr.columns = area_uniq\n",
    "    return area_expr\n",
    "\n",
    "def prop_tot(adata):\n",
    "    area_uniq = np.unique(adata.obs['area'])\n",
    "    area_expr = []\n",
    "    for i in range(len(area_uniq)):\n",
    "        adata_area = adata[adata.obs['area'] == area_uniq[i]]\n",
    "        avg_area = np.mean(adata_area.X != 0, axis=0)\n",
    "        area_expr.append(avg_area)\n",
    "    area_expr = np.array(area_expr).T\n",
    "    area_expr = pd.DataFrame(area_expr)\n",
    "    area_expr.index = adata.var.index\n",
    "    area_expr.columns = area_uniq\n",
    "    return area_expr"
   ]
  },
  {
   "cell_type": "code",
   "execution_count": 8,
   "metadata": {},
   "outputs": [],
   "source": [
    "zs_tot = expr_tot(adata_sub)\n",
    "zs_tot = zs_tot[['PFC', 'M1', 'Par', 'Temp', 'V2', 'V1']]\n",
    "\n",
    "perc_tot = prop_tot(adata_sub)\n",
    "perc_tot = perc_tot[['PFC', 'M1', 'Par', 'Temp', 'V2', 'V1']]"
   ]
  },
  {
   "cell_type": "code",
   "execution_count": 85,
   "metadata": {},
   "outputs": [],
   "source": [
    "adata_sub.obs['direction'] = \"-1\"\n",
    "adata_sub.obs.loc[adata_sub.obs['area'].isin(['PFC', 'M1']), 'direction'] = \"A\"\n",
    "adata_sub.obs.loc[adata_sub.obs['area'].isin(['Par', 'V2']), 'direction'] = \"P\"\n",
    "adata_sub_de = adata_sub[adata_sub.obs['direction'] != '-1'].copy()\n",
    "\n",
    "sc.tl.rank_genes_groups(adata_sub_de, 'direction', method='t-test')"
   ]
  },
  {
   "cell_type": "code",
   "execution_count": 48,
   "metadata": {},
   "outputs": [],
   "source": [
    "result_ap = adata_sub_de.uns['rank_genes_groups']\n",
    "result_ap = pd.DataFrame(np.array(result_ap['names'][:50]))"
   ]
  },
  {
   "cell_type": "code",
   "execution_count": 49,
   "metadata": {},
   "outputs": [],
   "source": [
    "adata_sub.obs['direction'] = \"-1\"\n",
    "adata_sub.obs.loc[adata_sub.obs['area'].isin(['Temp']), 'direction'] = \"Temp\"\n",
    "adata_sub.obs.loc[~adata_sub.obs['area'].isin(['Temp']), 'direction'] = \"N\"\n",
    "adata_sub_de = adata_sub[adata_sub.obs['direction'] != '-1'].copy()\n",
    "\n",
    "sc.tl.rank_genes_groups(adata_sub_de, 'direction', method='t-test')"
   ]
  },
  {
   "cell_type": "code",
   "execution_count": 50,
   "metadata": {},
   "outputs": [],
   "source": [
    "result_t = adata_sub_de.uns['rank_genes_groups']\n",
    "result_t = pd.DataFrame(np.array(result_t['names'][:20]))"
   ]
  },
  {
   "cell_type": "code",
   "execution_count": 54,
   "metadata": {},
   "outputs": [],
   "source": [
    "os.makedirs(\"result/DEG\", exist_ok=True)\n",
    "perc_tot.loc[result_ap['A'], :].to_csv(\"result/DEG/prop_A.csv\")\n",
    "perc_tot.loc[result_ap['P'], :].to_csv(\"result/DEG/prop_P.csv\")\n",
    "zs_tot.loc[result_ap['A'], :].to_csv(\"result/DEG/expr_A.csv\")\n",
    "zs_tot.loc[result_ap['P'], :].to_csv(\"result/DEG/expr_P.csv\")\n",
    "\n",
    "perc_tot.loc[result_t['Temp'], :].to_csv(\"result/DEG/prop_T.csv\")\n",
    "zs_tot.loc[result_t['Temp'], :].to_csv(\"result/DEG/expr_T.csv\")"
   ]
  },
  {
   "cell_type": "code",
   "execution_count": 19,
   "metadata": {},
   "outputs": [],
   "source": [
    "h1_class = [\"EN-Mig\", \"RG\", \"IPC\", \"IN\"]\n",
    "\n",
    "for j in range(len(h1_class)):\n",
    "    zs_tot = expr_tot(adata[adata.obs['H1_annotation'] == h1_class[j]])\n",
    "    zs_tot = zs_tot[['PFC', 'M1', 'Par', 'Temp', 'V2', 'V1']]\n",
    "\n",
    "    perc_tot = prop_tot(adata[adata.obs['H1_annotation'] == h1_class[j]])\n",
    "    perc_tot = perc_tot[['PFC', 'M1', 'Par', 'Temp', 'V2', 'V1']]\n",
    "    zs_tot.to_csv(f\"result/expr_{h1_class[j]}.csv\")\n",
    "    perc_tot.to_csv(f\"result/prop_{h1_class[j]}.csv\")"
   ]
  },
  {
   "cell_type": "code",
   "execution_count": null,
   "metadata": {},
   "outputs": [],
   "source": []
  }
 ],
 "metadata": {
  "kernelspec": {
   "display_name": "base",
   "language": "python",
   "name": "python3"
  },
  "language_info": {
   "codemirror_mode": {
    "name": "ipython",
    "version": 3
   },
   "file_extension": ".py",
   "mimetype": "text/x-python",
   "name": "python",
   "nbconvert_exporter": "python",
   "pygments_lexer": "ipython3",
   "version": "3.9.13"
  }
 },
 "nbformat": 4,
 "nbformat_minor": 2
}
