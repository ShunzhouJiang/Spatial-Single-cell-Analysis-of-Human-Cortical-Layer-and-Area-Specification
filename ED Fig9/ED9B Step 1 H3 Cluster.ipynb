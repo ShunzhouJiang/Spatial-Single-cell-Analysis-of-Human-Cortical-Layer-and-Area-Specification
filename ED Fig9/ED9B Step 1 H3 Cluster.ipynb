{
 "cells": [
  {
   "cell_type": "code",
   "execution_count": null,
   "metadata": {},
   "outputs": [],
   "source": [
    "import scanpy as sc\n",
    "import pandas as pd"
   ]
  },
  {
   "cell_type": "code",
   "execution_count": null,
   "metadata": {},
   "outputs": [],
   "source": [
    "adata = sc.read_h5ad(\"/Users/cyluo/Library/CloudStorage/Box-Box/MERFISH Collaboration 3/clustering3/h5ad files/zenodo/merscope_integrated_855.h5ad\")\n",
    "print(adata)"
   ]
  },
  {
   "cell_type": "code",
   "execution_count": null,
   "metadata": {},
   "outputs": [],
   "source": [
    "adatasub = adata[adata.obs['H1_annotation'].isin(['RG', 'IPC', 'IN'])]"
   ]
  },
  {
   "cell_type": "code",
   "execution_count": null,
   "metadata": {},
   "outputs": [],
   "source": [
    "adatagw15 = adatasub[adatasub.obs['gw'] == '15']\n",
    "adatagw15.obs.to_csv(\"gw15_block.csv\", index=False)\n",
    "adatagw20 = adatasub[adatasub.obs['gw'] == '20']\n",
    "adatagw20.obs.to_csv(\"gw20_block.csv\", index=False)\n",
    "adatagw22 = adatasub[adatasub.obs['gw'] == '22']\n",
    "adatagw22.obs.to_csv(\"gw22_block.csv\", index=False)\n",
    "adatagw34 = adatasub[adatasub.obs['gw'] == '34']\n",
    "adatagw34.obs.to_csv(\"gw34_block.csv\", index=False)"
   ]
  }
 ],
 "metadata": {
  "language_info": {
   "name": "python"
  }
 },
 "nbformat": 4,
 "nbformat_minor": 2
}
