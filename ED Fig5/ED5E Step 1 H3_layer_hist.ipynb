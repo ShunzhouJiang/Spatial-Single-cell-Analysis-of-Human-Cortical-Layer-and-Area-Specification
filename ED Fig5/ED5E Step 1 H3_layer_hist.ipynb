{
 "cells": [
  {
   "cell_type": "code",
   "execution_count": 1,
   "metadata": {},
   "outputs": [],
   "source": [
    "import scanpy as sc\n",
    "import pandas as pd"
   ]
  },
  {
   "cell_type": "code",
   "execution_count": 2,
   "metadata": {},
   "outputs": [
    {
     "name": "stdout",
     "output_type": "stream",
     "text": [
      "AnnData object with n_obs × n_vars = 15927370 × 300\n",
      "    obs: 'gw', 'sample', 'region', 'area', 'layer', 'H1_annotation', 'H2_annotation', 'H3_annotation', 'relative_height', 'cortical_depth'\n",
      "    uns: 'rank_genes_groups'\n",
      "    obsm: 'spatial'\n"
     ]
    },
    {
     "name": "stderr",
     "output_type": "stream",
     "text": [
      "/Users/cyluo/anaconda3/envs/xuyuEnv/lib/python3.9/site-packages/anndata/_core/anndata.py:1897: UserWarning: Observation names are not unique. To make them unique, call `.obs_names_make_unique`.\n",
      "  utils.warn_names_duplicates(\"obs\")\n"
     ]
    }
   ],
   "source": [
    "adata = sc.read_h5ad(\"/Users/cyluo/Library/CloudStorage/Box-Box/MERFISH Collaboration 3/clustering3/h5ad files/zenodo/merscope_integrated_855.h5ad\")\n",
    "print(adata)"
   ]
  },
  {
   "cell_type": "code",
   "execution_count": 3,
   "metadata": {},
   "outputs": [
    {
     "data": {
      "text/html": [
       "<div>\n",
       "<style scoped>\n",
       "    .dataframe tbody tr th:only-of-type {\n",
       "        vertical-align: middle;\n",
       "    }\n",
       "\n",
       "    .dataframe tbody tr th {\n",
       "        vertical-align: top;\n",
       "    }\n",
       "\n",
       "    .dataframe thead th {\n",
       "        text-align: right;\n",
       "    }\n",
       "</style>\n",
       "<table border=\"1\" class=\"dataframe\">\n",
       "  <thead>\n",
       "    <tr style=\"text-align: right;\">\n",
       "      <th></th>\n",
       "      <th>gw</th>\n",
       "      <th>sample</th>\n",
       "      <th>region</th>\n",
       "      <th>area</th>\n",
       "      <th>layer</th>\n",
       "      <th>H1_annotation</th>\n",
       "      <th>H2_annotation</th>\n",
       "      <th>H3_annotation</th>\n",
       "      <th>relative_height</th>\n",
       "      <th>cortical_depth</th>\n",
       "    </tr>\n",
       "  </thead>\n",
       "  <tbody>\n",
       "    <tr>\n",
       "      <th>2241155200096100247</th>\n",
       "      <td>20</td>\n",
       "      <td>FB080</td>\n",
       "      <td>F1</td>\n",
       "      <td>PFC</td>\n",
       "      <td>l3</td>\n",
       "      <td>EN-IT</td>\n",
       "      <td>EN-IT-L2/3</td>\n",
       "      <td>EN-IT-L3-V1</td>\n",
       "      <td>NaN</td>\n",
       "      <td>0.945756</td>\n",
       "    </tr>\n",
       "    <tr>\n",
       "      <th>2241155200096100260</th>\n",
       "      <td>20</td>\n",
       "      <td>FB080</td>\n",
       "      <td>F1</td>\n",
       "      <td>PFC</td>\n",
       "      <td>l3</td>\n",
       "      <td>EN-IT</td>\n",
       "      <td>EN-IT-L4</td>\n",
       "      <td>EN-IT-L3/4-P2</td>\n",
       "      <td>NaN</td>\n",
       "      <td>0.931359</td>\n",
       "    </tr>\n",
       "    <tr>\n",
       "      <th>2241155200096100287</th>\n",
       "      <td>20</td>\n",
       "      <td>FB080</td>\n",
       "      <td>F1</td>\n",
       "      <td>PFC</td>\n",
       "      <td>l3</td>\n",
       "      <td>EN-IT</td>\n",
       "      <td>EN-IT-L6</td>\n",
       "      <td>EN-IT-L6-2</td>\n",
       "      <td>NaN</td>\n",
       "      <td>0.904237</td>\n",
       "    </tr>\n",
       "    <tr>\n",
       "      <th>2241155200096100297</th>\n",
       "      <td>20</td>\n",
       "      <td>FB080</td>\n",
       "      <td>F1</td>\n",
       "      <td>PFC</td>\n",
       "      <td>l3</td>\n",
       "      <td>EN-IT</td>\n",
       "      <td>EN-IT-L2/3</td>\n",
       "      <td>EN-IT-L2/3-A2</td>\n",
       "      <td>NaN</td>\n",
       "      <td>0.920520</td>\n",
       "    </tr>\n",
       "    <tr>\n",
       "      <th>2241155200096100299</th>\n",
       "      <td>20</td>\n",
       "      <td>FB080</td>\n",
       "      <td>F1</td>\n",
       "      <td>PFC</td>\n",
       "      <td>l3</td>\n",
       "      <td>EN-IT</td>\n",
       "      <td>EN-IT-L3/4</td>\n",
       "      <td>EN-IT-L4-A</td>\n",
       "      <td>NaN</td>\n",
       "      <td>0.901219</td>\n",
       "    </tr>\n",
       "  </tbody>\n",
       "</table>\n",
       "</div>"
      ],
      "text/plain": [
       "                     gw sample region area layer H1_annotation H2_annotation  \\\n",
       "2241155200096100247  20  FB080     F1  PFC    l3         EN-IT    EN-IT-L2/3   \n",
       "2241155200096100260  20  FB080     F1  PFC    l3         EN-IT      EN-IT-L4   \n",
       "2241155200096100287  20  FB080     F1  PFC    l3         EN-IT      EN-IT-L6   \n",
       "2241155200096100297  20  FB080     F1  PFC    l3         EN-IT    EN-IT-L2/3   \n",
       "2241155200096100299  20  FB080     F1  PFC    l3         EN-IT    EN-IT-L3/4   \n",
       "\n",
       "                     H3_annotation  relative_height  cortical_depth  \n",
       "2241155200096100247    EN-IT-L3-V1              NaN        0.945756  \n",
       "2241155200096100260  EN-IT-L3/4-P2              NaN        0.931359  \n",
       "2241155200096100287     EN-IT-L6-2              NaN        0.904237  \n",
       "2241155200096100297  EN-IT-L2/3-A2              NaN        0.920520  \n",
       "2241155200096100299     EN-IT-L4-A              NaN        0.901219  "
      ]
     },
     "execution_count": 3,
     "metadata": {},
     "output_type": "execute_result"
    }
   ],
   "source": [
    "layers_of_interest = ['l2', 'l3', 'l4', 'l5', 'l6']\n",
    "adata[adata.obs['layer'].isin(layers_of_interest), :].obs.head()"
   ]
  },
  {
   "cell_type": "code",
   "execution_count": 4,
   "metadata": {},
   "outputs": [
    {
     "name": "stdout",
     "output_type": "stream",
     "text": [
      "                     gw sample region area layer H1_annotation H2_annotation  \\\n",
      "2241155200012100016  20  FB080     F1  NaN   NaN         EN-IT    EN-IT-L2/3   \n",
      "2241155200012100018  20  FB080     F1  NaN   NaN         EN-IT    EN-IT-L2/3   \n",
      "2241155200012100021  20  FB080     F1  NaN   NaN        EN-Mig         EN-L2   \n",
      "2241155200012100028  20  FB080     F1  NaN   NaN         EN-IT    EN-IT-L2/3   \n",
      "2241155200012100030  20  FB080     F1  NaN   NaN         EN-IT    EN-IT-L2/3   \n",
      "\n",
      "                     H3_annotation  relative_height  cortical_depth  \n",
      "2241155200012100016    EN-IT-L3-V1              NaN             NaN  \n",
      "2241155200012100018    EN-IT-L3-V1              NaN             NaN  \n",
      "2241155200012100021        EN-IZ-3              NaN             NaN  \n",
      "2241155200012100028  EN-IT-L2/3-A2              NaN             NaN  \n",
      "2241155200012100030     EN-IT-L3-A              NaN             NaN  \n"
     ]
    }
   ],
   "source": [
    "adata.obs['layer'] = adata.obs['layer'].replace(layers_of_interest, 'cp')\n",
    "print(adata.obs.head())"
   ]
  },
  {
   "cell_type": "code",
   "execution_count": 6,
   "metadata": {},
   "outputs": [
    {
     "name": "stdout",
     "output_type": "stream",
     "text": [
      "                     gw sample region area layer H1_annotation H2_annotation  \\\n",
      "2241155200014100667  20  FB080     F1  NaN   NaN            IN     INP-VZ/GE   \n",
      "2241155200015100256  20  FB080     F1  NaN   NaN            IN        IN-SST   \n",
      "2241155200015100262  20  FB080     F1  NaN   NaN            IN        IN-SST   \n",
      "2241155200015100298  20  FB080     F1  NaN   NaN            IN      IN-VZ/GE   \n",
      "2241155200015100429  20  FB080     F1  NaN   NaN            IN     INP-VZ/GE   \n",
      "\n",
      "                    H3_annotation  relative_height  cortical_depth  \n",
      "2241155200014100667    INP-VZ/GE2              NaN             NaN  \n",
      "2241155200015100256    IN-SST-NPY              NaN             NaN  \n",
      "2241155200015100262    IN-SST-NPY              NaN             NaN  \n",
      "2241155200015100298   IN-VIP-late              NaN             NaN  \n",
      "2241155200015100429      INP-LGE2              NaN             NaN  \n"
     ]
    }
   ],
   "source": [
    "adata_in = adata[adata.obs['H1_annotation'] == 'IN', :]\n",
    "print(adata_in.obs.head())"
   ]
  },
  {
   "cell_type": "code",
   "execution_count": 7,
   "metadata": {},
   "outputs": [
    {
     "data": {
      "text/html": [
       "<div>\n",
       "<style scoped>\n",
       "    .dataframe tbody tr th:only-of-type {\n",
       "        vertical-align: middle;\n",
       "    }\n",
       "\n",
       "    .dataframe tbody tr th {\n",
       "        vertical-align: top;\n",
       "    }\n",
       "\n",
       "    .dataframe thead th {\n",
       "        text-align: right;\n",
       "    }\n",
       "</style>\n",
       "<table border=\"1\" class=\"dataframe\">\n",
       "  <thead>\n",
       "    <tr style=\"text-align: right;\">\n",
       "      <th></th>\n",
       "      <th>gw</th>\n",
       "      <th>sample</th>\n",
       "      <th>region</th>\n",
       "      <th>area</th>\n",
       "      <th>layer</th>\n",
       "      <th>H1_annotation</th>\n",
       "      <th>H2_annotation</th>\n",
       "      <th>H3_annotation</th>\n",
       "      <th>relative_height</th>\n",
       "      <th>cortical_depth</th>\n",
       "    </tr>\n",
       "  </thead>\n",
       "  <tbody>\n",
       "    <tr>\n",
       "      <th>2241155200096100405</th>\n",
       "      <td>20</td>\n",
       "      <td>FB080</td>\n",
       "      <td>F1</td>\n",
       "      <td>PFC</td>\n",
       "      <td>cp</td>\n",
       "      <td>IN</td>\n",
       "      <td>INP-VZ/GE</td>\n",
       "      <td>INP-LGE1</td>\n",
       "      <td>NaN</td>\n",
       "      <td>0.815143</td>\n",
       "    </tr>\n",
       "    <tr>\n",
       "      <th>2241155200150100207</th>\n",
       "      <td>20</td>\n",
       "      <td>FB080</td>\n",
       "      <td>F1</td>\n",
       "      <td>PFC</td>\n",
       "      <td>cp</td>\n",
       "      <td>IN</td>\n",
       "      <td>INP-VZ/GE</td>\n",
       "      <td>INP-VZ/GE2</td>\n",
       "      <td>NaN</td>\n",
       "      <td>0.688257</td>\n",
       "    </tr>\n",
       "    <tr>\n",
       "      <th>2241155200150100793</th>\n",
       "      <td>20</td>\n",
       "      <td>FB080</td>\n",
       "      <td>F1</td>\n",
       "      <td>PFC</td>\n",
       "      <td>cp</td>\n",
       "      <td>IN</td>\n",
       "      <td>IN-SST</td>\n",
       "      <td>IN-SST1</td>\n",
       "      <td>NaN</td>\n",
       "      <td>0.505359</td>\n",
       "    </tr>\n",
       "    <tr>\n",
       "      <th>2241155200150100872</th>\n",
       "      <td>20</td>\n",
       "      <td>FB080</td>\n",
       "      <td>F1</td>\n",
       "      <td>PFC</td>\n",
       "      <td>cp</td>\n",
       "      <td>IN</td>\n",
       "      <td>IN-SST</td>\n",
       "      <td>IN-SST2</td>\n",
       "      <td>NaN</td>\n",
       "      <td>0.496839</td>\n",
       "    </tr>\n",
       "    <tr>\n",
       "      <th>2241155200150100874</th>\n",
       "      <td>20</td>\n",
       "      <td>FB080</td>\n",
       "      <td>F1</td>\n",
       "      <td>PFC</td>\n",
       "      <td>cp</td>\n",
       "      <td>IN</td>\n",
       "      <td>INP-VZ/GE</td>\n",
       "      <td>INP-VZ</td>\n",
       "      <td>NaN</td>\n",
       "      <td>0.489820</td>\n",
       "    </tr>\n",
       "    <tr>\n",
       "      <th>...</th>\n",
       "      <td>...</td>\n",
       "      <td>...</td>\n",
       "      <td>...</td>\n",
       "      <td>...</td>\n",
       "      <td>...</td>\n",
       "      <td>...</td>\n",
       "      <td>...</td>\n",
       "      <td>...</td>\n",
       "      <td>...</td>\n",
       "      <td>...</td>\n",
       "    </tr>\n",
       "    <tr>\n",
       "      <th>2636162100783100097</th>\n",
       "      <td>34</td>\n",
       "      <td>UMB5900</td>\n",
       "      <td>BA22</td>\n",
       "      <td>A-Temp</td>\n",
       "      <td>cp</td>\n",
       "      <td>IN</td>\n",
       "      <td>INP-VZ/GE</td>\n",
       "      <td>INP-VZ</td>\n",
       "      <td>NaN</td>\n",
       "      <td>0.057007</td>\n",
       "    </tr>\n",
       "    <tr>\n",
       "      <th>2636162100783100101</th>\n",
       "      <td>34</td>\n",
       "      <td>UMB5900</td>\n",
       "      <td>BA22</td>\n",
       "      <td>A-Temp</td>\n",
       "      <td>cp</td>\n",
       "      <td>IN</td>\n",
       "      <td>INP-VZ/GE</td>\n",
       "      <td>INP-VZ/GE2</td>\n",
       "      <td>NaN</td>\n",
       "      <td>0.058538</td>\n",
       "    </tr>\n",
       "    <tr>\n",
       "      <th>2636162100783100103</th>\n",
       "      <td>34</td>\n",
       "      <td>UMB5900</td>\n",
       "      <td>BA22</td>\n",
       "      <td>A-Temp</td>\n",
       "      <td>cp</td>\n",
       "      <td>IN</td>\n",
       "      <td>INP-VZ/GE</td>\n",
       "      <td>INP-VZ/GE2</td>\n",
       "      <td>NaN</td>\n",
       "      <td>0.006693</td>\n",
       "    </tr>\n",
       "    <tr>\n",
       "      <th>2636162100783100109</th>\n",
       "      <td>34</td>\n",
       "      <td>UMB5900</td>\n",
       "      <td>BA22</td>\n",
       "      <td>A-Temp</td>\n",
       "      <td>cp</td>\n",
       "      <td>IN</td>\n",
       "      <td>IN-CGE</td>\n",
       "      <td>IN-CGE1</td>\n",
       "      <td>NaN</td>\n",
       "      <td>0.002998</td>\n",
       "    </tr>\n",
       "    <tr>\n",
       "      <th>2636162100783100113</th>\n",
       "      <td>34</td>\n",
       "      <td>UMB5900</td>\n",
       "      <td>BA22</td>\n",
       "      <td>A-Temp</td>\n",
       "      <td>cp</td>\n",
       "      <td>IN</td>\n",
       "      <td>INP-VZ/GE</td>\n",
       "      <td>INP-VZ/GE2</td>\n",
       "      <td>NaN</td>\n",
       "      <td>0.042819</td>\n",
       "    </tr>\n",
       "  </tbody>\n",
       "</table>\n",
       "<p>52497 rows × 10 columns</p>\n",
       "</div>"
      ],
      "text/plain": [
       "                     gw   sample region    area layer H1_annotation  \\\n",
       "2241155200096100405  20    FB080     F1     PFC    cp            IN   \n",
       "2241155200150100207  20    FB080     F1     PFC    cp            IN   \n",
       "2241155200150100793  20    FB080     F1     PFC    cp            IN   \n",
       "2241155200150100872  20    FB080     F1     PFC    cp            IN   \n",
       "2241155200150100874  20    FB080     F1     PFC    cp            IN   \n",
       "...                  ..      ...    ...     ...   ...           ...   \n",
       "2636162100783100097  34  UMB5900   BA22  A-Temp    cp            IN   \n",
       "2636162100783100101  34  UMB5900   BA22  A-Temp    cp            IN   \n",
       "2636162100783100103  34  UMB5900   BA22  A-Temp    cp            IN   \n",
       "2636162100783100109  34  UMB5900   BA22  A-Temp    cp            IN   \n",
       "2636162100783100113  34  UMB5900   BA22  A-Temp    cp            IN   \n",
       "\n",
       "                    H2_annotation H3_annotation  relative_height  \\\n",
       "2241155200096100405     INP-VZ/GE      INP-LGE1              NaN   \n",
       "2241155200150100207     INP-VZ/GE    INP-VZ/GE2              NaN   \n",
       "2241155200150100793        IN-SST       IN-SST1              NaN   \n",
       "2241155200150100872        IN-SST       IN-SST2              NaN   \n",
       "2241155200150100874     INP-VZ/GE        INP-VZ              NaN   \n",
       "...                           ...           ...              ...   \n",
       "2636162100783100097     INP-VZ/GE        INP-VZ              NaN   \n",
       "2636162100783100101     INP-VZ/GE    INP-VZ/GE2              NaN   \n",
       "2636162100783100103     INP-VZ/GE    INP-VZ/GE2              NaN   \n",
       "2636162100783100109        IN-CGE       IN-CGE1              NaN   \n",
       "2636162100783100113     INP-VZ/GE    INP-VZ/GE2              NaN   \n",
       "\n",
       "                     cortical_depth  \n",
       "2241155200096100405        0.815143  \n",
       "2241155200150100207        0.688257  \n",
       "2241155200150100793        0.505359  \n",
       "2241155200150100872        0.496839  \n",
       "2241155200150100874        0.489820  \n",
       "...                             ...  \n",
       "2636162100783100097        0.057007  \n",
       "2636162100783100101        0.058538  \n",
       "2636162100783100103        0.006693  \n",
       "2636162100783100109        0.002998  \n",
       "2636162100783100113        0.042819  \n",
       "\n",
       "[52497 rows x 10 columns]"
      ]
     },
     "execution_count": 7,
     "metadata": {},
     "output_type": "execute_result"
    }
   ],
   "source": [
    "adata_in.obs[adata_in.obs['layer'] == 'cp']"
   ]
  },
  {
   "cell_type": "code",
   "execution_count": 9,
   "metadata": {},
   "outputs": [
    {
     "name": "stdout",
     "output_type": "stream",
     "text": [
      "                     gw sample region area layer H1_annotation H2_annotation  \\\n",
      "2241155200014100667  20  FB080     F1  NaN   NaN            IN     INP-VZ/GE   \n",
      "2241155200015100256  20  FB080     F1  NaN   NaN            IN        IN-SST   \n",
      "2241155200015100262  20  FB080     F1  NaN   NaN            IN        IN-SST   \n",
      "2241155200015100298  20  FB080     F1  NaN   NaN            IN      IN-VZ/GE   \n",
      "2241155200015100429  20  FB080     F1  NaN   NaN            IN     INP-VZ/GE   \n",
      "\n",
      "                    H3_annotation  relative_height  cortical_depth  \n",
      "2241155200014100667    INP-VZ/GE2              NaN             NaN  \n",
      "2241155200015100256    IN-SST-NPY              NaN             NaN  \n",
      "2241155200015100262    IN-SST-NPY              NaN             NaN  \n",
      "2241155200015100298   IN-VIP-late              NaN             NaN  \n",
      "2241155200015100429      INP-LGE2              NaN             NaN  \n"
     ]
    }
   ],
   "source": [
    "adata_in_20 = adata_in[adata_in.obs['gw'] == '20', :]\n",
    "print(adata_in_20.obs.head())"
   ]
  },
  {
   "cell_type": "code",
   "execution_count": 11,
   "metadata": {},
   "outputs": [
    {
     "name": "stdout",
     "output_type": "stream",
     "text": [
      "                     gw sample region area layer H1_annotation H2_annotation  \\\n",
      "2241155200096100405  20  FB080     F1  PFC    cp            IN     INP-VZ/GE   \n",
      "2241155200150100207  20  FB080     F1  PFC    cp            IN     INP-VZ/GE   \n",
      "2241155200150100793  20  FB080     F1  PFC    cp            IN        IN-SST   \n",
      "2241155200150100872  20  FB080     F1  PFC    cp            IN        IN-SST   \n",
      "2241155200150100874  20  FB080     F1  PFC    cp            IN     INP-VZ/GE   \n",
      "\n",
      "                    H3_annotation  relative_height  cortical_depth  \n",
      "2241155200096100405      INP-LGE1              NaN        0.815143  \n",
      "2241155200150100207    INP-VZ/GE2              NaN        0.688257  \n",
      "2241155200150100793       IN-SST1              NaN        0.505359  \n",
      "2241155200150100872       IN-SST2              NaN        0.496839  \n",
      "2241155200150100874        INP-VZ              NaN        0.489820  \n"
     ]
    }
   ],
   "source": [
    "adata_in_20_pfc = adata_in_20[adata_in_20.obs['area'] == 'PFC', :]\n",
    "print(adata_in_20_pfc.obs.head())"
   ]
  },
  {
   "cell_type": "code",
   "execution_count": null,
   "metadata": {},
   "outputs": [],
   "source": [
    "adata_in_20_pfc = adata_in_20_pfc.copy()\n",
    "\n",
    "adata_in_20_pfc.obs['sample_region'] = (\n",
    "    adata_in_20_pfc.obs['sample'].astype(str) + '-' + adata_in_20_pfc.obs['region'].astype(str)\n",
    "    )"
   ]
  },
  {
   "cell_type": "code",
   "execution_count": 14,
   "metadata": {},
   "outputs": [
    {
     "name": "stdout",
     "output_type": "stream",
     "text": [
      "                     gw sample region area layer H1_annotation H2_annotation  \\\n",
      "2241155200096100405  20  FB080     F1  PFC    cp            IN     INP-VZ/GE   \n",
      "2241155200150100207  20  FB080     F1  PFC    cp            IN     INP-VZ/GE   \n",
      "2241155200150100793  20  FB080     F1  PFC    cp            IN        IN-SST   \n",
      "2241155200150100872  20  FB080     F1  PFC    cp            IN        IN-SST   \n",
      "2241155200150100874  20  FB080     F1  PFC    cp            IN     INP-VZ/GE   \n",
      "\n",
      "                    H3_annotation  relative_height  cortical_depth  \\\n",
      "2241155200096100405      INP-LGE1              NaN        0.815143   \n",
      "2241155200150100207    INP-VZ/GE2              NaN        0.688257   \n",
      "2241155200150100793       IN-SST1              NaN        0.505359   \n",
      "2241155200150100872       IN-SST2              NaN        0.496839   \n",
      "2241155200150100874        INP-VZ              NaN        0.489820   \n",
      "\n",
      "                    sample_region  \n",
      "2241155200096100405      FB080-F1  \n",
      "2241155200150100207      FB080-F1  \n",
      "2241155200150100793      FB080-F1  \n",
      "2241155200150100872      FB080-F1  \n",
      "2241155200150100874      FB080-F1  \n"
     ]
    }
   ],
   "source": [
    "sr_to_include = ['FB080-F1', 'FB080-F2a', 'FB080-F2b', 'FB121-F1', 'FB121-F2']\n",
    "adata_in_20_pfc_sr = adata_in_20_pfc[adata_in_20_pfc.obs['sample_region'].isin(sr_to_include), :]\n",
    "print(adata_in_20_pfc_sr.obs.head())"
   ]
  },
  {
   "cell_type": "code",
   "execution_count": 15,
   "metadata": {},
   "outputs": [
    {
     "name": "stdout",
     "output_type": "stream",
     "text": [
      "    layer H3_annotation  H3_layer_count\n",
      "0    isvz       IN-CGE1              32\n",
      "1    isvz       IN-CGE2              59\n",
      "2    isvz       IN-CGE3              13\n",
      "3    isvz       IN-CGE4              45\n",
      "4    isvz       IN-CGE5             323\n",
      "..    ...           ...             ...\n",
      "170    vz      INP-LGE1            2484\n",
      "171    vz      INP-LGE2            3001\n",
      "172    vz        INP-VZ            3861\n",
      "173    vz    INP-VZ/GE1            2360\n",
      "174    vz    INP-VZ/GE2            2768\n",
      "\n",
      "[175 rows x 3 columns]\n"
     ]
    },
    {
     "name": "stderr",
     "output_type": "stream",
     "text": [
      "/var/folders/xz/tff3yvr92zz54zqk2m9jp1f00000gq/T/ipykernel_54205/2037650856.py:2: FutureWarning: The default of observed=False is deprecated and will be changed to True in a future version of pandas. Pass observed=False to retain current behavior or observed=True to adopt the future default and silence this warning.\n",
      "  merged_encluster_layer_H3 = plot_df.groupby(['layer', 'H3_annotation']).size().reset_index(name='H3_layer_count')\n",
      "/var/folders/xz/tff3yvr92zz54zqk2m9jp1f00000gq/T/ipykernel_54205/2037650856.py:4: FutureWarning: The default of observed=False is deprecated and will be changed to True in a future version of pandas. Pass observed=False to retain current behavior or observed=True to adopt the future default and silence this warning.\n",
      "  merged_encluster_H3 = plot_df.groupby(['H3_annotation']).size().reset_index(name='H3_count')\n"
     ]
    }
   ],
   "source": [
    "plot_df = adata_in_20_pfc_sr.obs\n",
    "merged_encluster_layer_H3 = plot_df.groupby(['layer', 'H3_annotation']).size().reset_index(name='H3_layer_count')\n",
    "merged_encluster_layer_H3.to_csv(\"encluster_sr_H3.csv\", index=False)\n",
    "merged_encluster_H3 = plot_df.groupby(['H3_annotation']).size().reset_index(name='H3_count')\n",
    "merged_encluster_H3.to_csv(\"encluster_H3.csv\", index=False)\n",
    "print(merged_encluster_layer_H3)"
   ]
  },
  {
   "cell_type": "code",
   "execution_count": 16,
   "metadata": {},
   "outputs": [
    {
     "name": "stdout",
     "output_type": "stream",
     "text": [
      "    layer H3_annotation  H3_layer_count  H3_count   percent\n",
      "0    isvz       IN-CGE1              32       424  0.075472\n",
      "1      iz       IN-CGE1             181       424  0.426887\n",
      "2      cp       IN-CGE1               3       424  0.007075\n",
      "3      mz       IN-CGE1               0       424  0.000000\n",
      "4    osvz       IN-CGE1             177       424  0.417453\n",
      "..    ...           ...             ...       ...       ...\n",
      "170    cp    INP-VZ/GE2              57      5239  0.010880\n",
      "171    mz    INP-VZ/GE2               0      5239  0.000000\n",
      "172  osvz    INP-VZ/GE2             988      5239  0.188586\n",
      "173    sp    INP-VZ/GE2              62      5239  0.011834\n",
      "174    vz    INP-VZ/GE2            2768      5239  0.528345\n",
      "\n",
      "[175 rows x 5 columns]\n"
     ]
    }
   ],
   "source": [
    "count_layer_H3 = pd.merge(merged_encluster_layer_H3, merged_encluster_H3, on=\"H3_annotation\")\n",
    "count_layer_H3['percent'] = count_layer_H3['H3_layer_count'] / count_layer_H3['H3_count']\n",
    "print(count_layer_H3)"
   ]
  },
  {
   "cell_type": "code",
   "execution_count": 17,
   "metadata": {},
   "outputs": [
    {
     "name": "stdout",
     "output_type": "stream",
     "text": [
      "   H3_annotation  percent_sum\n",
      "0        IN-CGE1          1.0\n",
      "1        IN-CGE2          1.0\n",
      "2        IN-CGE3          1.0\n",
      "3        IN-CGE4          1.0\n",
      "4        IN-CGE5          1.0\n",
      "5         IN-GE1          1.0\n",
      "6         IN-GE2          1.0\n",
      "7        IN-MGE1          1.0\n",
      "8        IN-MGE2          1.0\n",
      "9        IN-MGE3          1.0\n",
      "10       IN-MGE4          1.0\n",
      "11       IN-MGE5          1.0\n",
      "12       IN-SST1          1.0\n",
      "13       IN-SST2          1.0\n",
      "14       IN-SST3          1.0\n",
      "15       IN-SST4          1.0\n",
      "16    IN-SST-NPY          1.0\n",
      "17   IN-VIP-late          1.0\n",
      "18    IN-VZ/LGE1          1.0\n",
      "19    IN-VZ/LGE2          1.0\n",
      "20      INP-LGE1          1.0\n",
      "21      INP-LGE2          1.0\n",
      "22        INP-VZ          1.0\n",
      "23    INP-VZ/GE1          1.0\n",
      "24    INP-VZ/GE2          1.0\n"
     ]
    },
    {
     "name": "stderr",
     "output_type": "stream",
     "text": [
      "/var/folders/xz/tff3yvr92zz54zqk2m9jp1f00000gq/T/ipykernel_54205/193541972.py:2: FutureWarning: The default of observed=False is deprecated and will be changed to True in a future version of pandas. Pass observed=False to retain current behavior or observed=True to adopt the future default and silence this warning.\n",
      "  percent_sum_check = count_layer_H3.groupby('H3_annotation')['percent'].sum().reset_index(name='percent_sum')\n"
     ]
    }
   ],
   "source": [
    "# Check the sum of the 'percent' column for each 'H3_annotation'\n",
    "percent_sum_check = count_layer_H3.groupby('H3_annotation')['percent'].sum().reset_index(name='percent_sum')\n",
    "print(percent_sum_check)"
   ]
  },
  {
   "cell_type": "code",
   "execution_count": 18,
   "metadata": {},
   "outputs": [],
   "source": [
    "count_layer_H3.to_csv(\"H3_layer_histogram.csv\")"
   ]
  }
 ],
 "metadata": {
  "kernelspec": {
   "display_name": "xuyuEnv",
   "language": "python",
   "name": "python3"
  },
  "language_info": {
   "codemirror_mode": {
    "name": "ipython",
    "version": 3
   },
   "file_extension": ".py",
   "mimetype": "text/x-python",
   "name": "python",
   "nbconvert_exporter": "python",
   "pygments_lexer": "ipython3",
   "version": "3.9.18"
  }
 },
 "nbformat": 4,
 "nbformat_minor": 2
}
