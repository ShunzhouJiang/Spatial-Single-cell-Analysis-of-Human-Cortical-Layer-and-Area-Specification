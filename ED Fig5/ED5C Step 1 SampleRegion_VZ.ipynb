{
 "cells": [
  {
   "cell_type": "code",
   "execution_count": 45,
   "metadata": {},
   "outputs": [],
   "source": [
    "import scanpy as sc\n",
    "import matplotlib.pyplot as plt\n",
    "import numpy as np\n",
    "import pandas as pd\n",
    "import openpyxl"
   ]
  },
  {
   "cell_type": "code",
   "execution_count": 46,
   "metadata": {},
   "outputs": [
    {
     "name": "stdout",
     "output_type": "stream",
     "text": [
      "AnnData object with n_obs × n_vars = 5577480 × 300\n",
      "    obs: 'gw', 'sample', 'region', 'H1_cluster', 'H2_cluster', 'H3_cluster', 'H1_annotation', 'H2_annotation', 'H3_annotation', 'area', 'layer'\n",
      "    obsm: 'spatial'\n"
     ]
    },
    {
     "name": "stderr",
     "output_type": "stream",
     "text": [
      "/Users/cyluo/anaconda3/envs/xuyuEnv/lib/python3.9/site-packages/anndata/_core/anndata.py:1897: UserWarning: Observation names are not unique. To make them unique, call `.obs_names_make_unique`.\n",
      "  utils.warn_names_duplicates(\"obs\")\n"
     ]
    }
   ],
   "source": [
    "adata = sc.read_h5ad(\"norm_exp.h5ad\")\n",
    "print(adata)"
   ]
  },
  {
   "cell_type": "code",
   "execution_count": 47,
   "metadata": {},
   "outputs": [
    {
     "name": "stdout",
     "output_type": "stream",
     "text": [
      "View of AnnData object with n_obs × n_vars = 337433 × 300\n",
      "    obs: 'gw', 'sample', 'region', 'H1_cluster', 'H2_cluster', 'H3_cluster', 'H1_annotation', 'H2_annotation', 'H3_annotation', 'area', 'layer'\n",
      "    obsm: 'spatial'\n"
     ]
    }
   ],
   "source": [
    "adata_vz = adata[adata.obs['layer'] == 'vz', :]\n",
    "print(adata_vz)"
   ]
  },
  {
   "cell_type": "code",
   "execution_count": 35,
   "metadata": {},
   "outputs": [
    {
     "name": "stdout",
     "output_type": "stream",
     "text": [
      "View of AnnData object with n_obs × n_vars = 104731 × 300\n",
      "    obs: 'gw', 'sample', 'region', 'H1_cluster', 'H2_cluster', 'H3_cluster', 'H1_annotation', 'H2_annotation', 'H3_annotation', 'area', 'layer'\n",
      "    obsm: 'spatial'\n"
     ]
    }
   ],
   "source": [
    "print(adata_vz[adata_vz.obs['gw'] == 'gw15', :])"
   ]
  },
  {
   "cell_type": "code",
   "execution_count": 48,
   "metadata": {},
   "outputs": [],
   "source": [
    "adata_vz_15 = adata_vz[adata_vz.obs['gw'] == 'gw15', :]\n",
    "adata_vz_20 = adata_vz[adata_vz.obs['gw'] == 'gw20', :]"
   ]
  },
  {
   "cell_type": "code",
   "execution_count": 49,
   "metadata": {},
   "outputs": [
    {
     "name": "stdout",
     "output_type": "stream",
     "text": [
      "cell\n",
      "2262468200873101448    IPC\n",
      "2262468200873101458    IPC\n",
      "2262468200873101476    IPC\n",
      "2262468200873101497    IPC\n",
      "2262468200873101498     IN\n",
      "Name: H1_annotation, dtype: category\n",
      "Categories (8, object): ['EC', 'EN-ET', 'EN-IT', 'EN-Mig', 'Glia', 'IN', 'IPC', 'RG']\n"
     ]
    }
   ],
   "source": [
    "print(adata_vz_15.obs['H1_annotation'].head())"
   ]
  },
  {
   "cell_type": "code",
   "execution_count": 50,
   "metadata": {},
   "outputs": [
    {
     "name": "stderr",
     "output_type": "stream",
     "text": [
      "/var/folders/xz/tff3yvr92zz54zqk2m9jp1f00000gq/T/ipykernel_65807/3693909562.py:2: ImplicitModificationWarning: Trying to modify attribute `.obs` of view, initializing view as actual.\n",
      "  adata_vz_15.obs['sample_region'] = adata_vz_15.obs['sample'].astype(str) + '-' + adata_vz_15.obs['region'].astype(str)\n"
     ]
    },
    {
     "name": "stdout",
     "output_type": "stream",
     "text": [
      "                       gw   sample region  H1_cluster  H2_cluster  H3_cluster  \\\n",
      "cell                                                                            \n",
      "2262468200873101448  gw15  UMB1117    F1a           2          12          60   \n",
      "2262468200873101458  gw15  UMB1117    F1a           2          14          70   \n",
      "2262468200873101476  gw15  UMB1117    F1a           2          12          60   \n",
      "2262468200873101497  gw15  UMB1117    F1a           2          14          70   \n",
      "2262468200873101498  gw15  UMB1117    F1a           7          37         185   \n",
      "...                   ...      ...    ...         ...         ...         ...   \n",
      "2263349500798100447  gw15  UMB1117    F1b           0           0           0   \n",
      "2263349500798100448  gw15  UMB1117    F1b           0           0           2   \n",
      "2263349500798100457  gw15  UMB1117    F1b           0           0           2   \n",
      "2263349500798100458  gw15  UMB1117    F1b           0           0           3   \n",
      "2263349500798100462  gw15  UMB1117    F1b           0           3          15   \n",
      "\n",
      "                    H1_annotation H2_annotation H3_annotation   area layer  \\\n",
      "cell                                                                         \n",
      "2262468200873101448           IPC      IPC-iSVZ      IPC-iSVZ  A-PFC    vz   \n",
      "2262468200873101458           IPC    IPC-VZ/SVZ    IPC-VZ/SVZ  A-PFC    vz   \n",
      "2262468200873101476           IPC      IPC-iSVZ      IPC-iSVZ  A-PFC    vz   \n",
      "2262468200873101497           IPC    IPC-VZ/SVZ    IPC-VZ/SVZ  A-PFC    vz   \n",
      "2262468200873101498            IN     INP-VZ/GE      INP-LGE1  A-PFC    vz   \n",
      "...                           ...           ...           ...    ...   ...   \n",
      "2263349500798100447            RG           RG1         oRG-1  A-PFC    vz   \n",
      "2263349500798100448            RG           RG1     vRG-early  A-PFC    vz   \n",
      "2263349500798100457            RG           RG1     vRG-early  A-PFC    vz   \n",
      "2263349500798100458            RG           RG1         oRG-3  A-PFC    vz   \n",
      "2263349500798100462            RG           tRG    vRG-early1  A-PFC    vz   \n",
      "\n",
      "                    sample_region  \n",
      "cell                               \n",
      "2262468200873101448   UMB1117-F1a  \n",
      "2262468200873101458   UMB1117-F1a  \n",
      "2262468200873101476   UMB1117-F1a  \n",
      "2262468200873101497   UMB1117-F1a  \n",
      "2262468200873101498   UMB1117-F1a  \n",
      "...                           ...  \n",
      "2263349500798100447   UMB1117-F1b  \n",
      "2263349500798100448   UMB1117-F1b  \n",
      "2263349500798100457   UMB1117-F1b  \n",
      "2263349500798100458   UMB1117-F1b  \n",
      "2263349500798100462   UMB1117-F1b  \n",
      "\n",
      "[104731 rows x 12 columns]\n"
     ]
    }
   ],
   "source": [
    "# 1. Creating the 'sample_region' column\n",
    "adata_vz_15.obs['sample_region'] = adata_vz_15.obs['sample'].astype(str) + '-' + adata_vz_15.obs['region'].astype(str)\n",
    "dict1 = {'UMB1367-P': 'UMB1367-P1', 'UMB1367-OP': 'UMB1367-O1', 'UMB1117-FP': 'UMB1117-F1a', 'UMB1117-FP-2': 'UMB1117-F1b', 'UMB1117-B-1': 'UMB1117-F2a', 'UMB1117-B-2': 'UMB1117-F2b', 'UMB1117-E-dorsal': 'UMB1117-P1', 'UMB1117-E-lateral': 'UMB1117-T1', 'UMB1117-G': 'UMB1117-O1', 'FB080-BD-230310': 'FB080-F1', 'FB080-C': 'FB080-F2a', 'FB080-C-2': 'FB080-F2b', 'FB080-F-dorsal-3': 'FB080-P1b', 'FB080-F-dorsal4': 'FB080-P1a', 'FB080-F-lateral': 'FB080-P2', 'FB080-F-ventral': 'FB080-T1', 'FB080-BA17': 'FB080-O1a', 'FB080-BA17-2': 'FB080-O1b', 'FB080-BA17-3': 'FB080-O1c', 'FB080-BA17-4': 'FB080-O1d', 'FB121-GW20-3A': 'FB121-F1', 'FB121-GW20-4A': 'FB121-F2', 'FB121-5A-GW20': 'FB121-P1', 'FB121-5C-rerun': 'FB121-T1', 'FB121-6A-230221': 'FB121-P2', 'FB121-BA17-GW20': 'FB121-O1', 'FB123-R2-2': 'FB123-F1', 'FB123-R3': 'FB123-F2', 'FB123-R4': 'FB123-F3', 'FB123-R5': 'FB123-P1', 'FB123-R6': 'FB123-O1', 'FB123-R6-2': 'FB123-O2', 'UMB5900-BA9': 'UMB5900-BA9', 'UMB5900-BA4': 'UMB5900-BA4', 'UMB5900-BA123': 'UMB5900-BA123', 'UMB5900-BA40': 'UMB5900-BA40a', 'UMB5900-BA40-2': 'UMB5900-BA40b', 'UMB5900-BA22': 'UMB5900-BA22', 'UMB5900-BA17': 'UMB5900-BA18'}\n",
    "adata_vz_15.obs['sample_region'] = adata_vz_15.obs['sample_region'].replace(dict1)\n",
    "print(adata_vz_15.obs)"
   ]
  },
  {
   "cell_type": "code",
   "execution_count": 51,
   "metadata": {},
   "outputs": [
    {
     "name": "stderr",
     "output_type": "stream",
     "text": [
      "/var/folders/xz/tff3yvr92zz54zqk2m9jp1f00000gq/T/ipykernel_65807/2922587889.py:2: ImplicitModificationWarning: Trying to modify attribute `.obs` of view, initializing view as actual.\n",
      "  adata_vz_20.obs['sample_region'] = adata_vz_20.obs['sample'].astype(str) + '-' + adata_vz_20.obs['region'].astype(str)\n"
     ]
    },
    {
     "name": "stdout",
     "output_type": "stream",
     "text": [
      "                       gw sample region  H1_cluster  H2_cluster  H3_cluster  \\\n",
      "cell                                                                          \n",
      "2241155200946101217  gw20  FB080     F1           7          39         198   \n",
      "2241155200946101218  gw20  FB080     F1           7          37         185   \n",
      "2241155200946101244  gw20  FB080     F1           2          14          70   \n",
      "2241155200946101261  gw20  FB080     F1           7          36         181   \n",
      "2241155200946101269  gw20  FB080     F1           2          10          51   \n",
      "...                   ...    ...    ...         ...         ...         ...   \n",
      "2716793900882100591  gw20  FB080     T1           2          10          53   \n",
      "2716793900882100603  gw20  FB080     T1           7          39         195   \n",
      "2716793900882100607  gw20  FB080     T1           7          37         189   \n",
      "2716793900882100638  gw20  FB080     T1           7          38         192   \n",
      "2716793900882100650  gw20  FB080     T1           7          37         187   \n",
      "\n",
      "                    H1_annotation H2_annotation H3_annotation    area layer  \\\n",
      "cell                                                                          \n",
      "2241155200946101217            IN        IN-MGE       IN-MGE4     PFC    vz   \n",
      "2241155200946101218            IN     INP-VZ/GE      INP-LGE1     PFC    vz   \n",
      "2241155200946101244           IPC    IPC-VZ/SVZ    IPC-VZ/SVZ     PFC    vz   \n",
      "2241155200946101261            IN        IN-CGE       IN-CGE2     PFC    vz   \n",
      "2241155200946101269           IPC      IPC-oSVZ      IPC-oSVZ     PFC    vz   \n",
      "...                           ...           ...           ...     ...   ...   \n",
      "2716793900882100591           IPC      IPC-oSVZ      IPC-oSVZ  A-Temp    vz   \n",
      "2716793900882100603            IN        IN-MGE       IN-MGE1  A-Temp    vz   \n",
      "2716793900882100607            IN     INP-VZ/GE    INP-VZ/GE2  A-Temp    vz   \n",
      "2716793900882100638            IN      IN-VZ/GE        IN-GE1  A-Temp    vz   \n",
      "2716793900882100650            IN     INP-VZ/GE      INP-LGE2  A-Temp    vz   \n",
      "\n",
      "                    sample_region  \n",
      "cell                               \n",
      "2241155200946101217      FB080-F1  \n",
      "2241155200946101218      FB080-F1  \n",
      "2241155200946101244      FB080-F1  \n",
      "2241155200946101261      FB080-F1  \n",
      "2241155200946101269      FB080-F1  \n",
      "...                           ...  \n",
      "2716793900882100591      FB080-T1  \n",
      "2716793900882100603      FB080-T1  \n",
      "2716793900882100607      FB080-T1  \n",
      "2716793900882100638      FB080-T1  \n",
      "2716793900882100650      FB080-T1  \n",
      "\n",
      "[185437 rows x 12 columns]\n"
     ]
    }
   ],
   "source": [
    "# 1. Creating the 'sample_region' column\n",
    "adata_vz_20.obs['sample_region'] = adata_vz_20.obs['sample'].astype(str) + '-' + adata_vz_20.obs['region'].astype(str)\n",
    "dict1 = {'UMB1367-P': 'UMB1367-P1', 'UMB1367-OP': 'UMB1367-O1', 'UMB1117-FP': 'UMB1117-F1a', 'UMB1117-FP-2': 'UMB1117-F1b', 'UMB1117-B-1': 'UMB1117-F2a', 'UMB1117-B-2': 'UMB1117-F2b', 'UMB1117-E-dorsal': 'UMB1117-P1', 'UMB1117-E-lateral': 'UMB1117-T1', 'UMB1117-G': 'UMB1117-O1', 'FB080-BD-230310': 'FB080-F1', 'FB080-C': 'FB080-F2a', 'FB080-C-2': 'FB080-F2b', 'FB080-F-dorsal-3': 'FB080-P1b', 'FB080-F-dorsal4': 'FB080-P1a', 'FB080-F-lateral': 'FB080-P2', 'FB080-F-ventral': 'FB080-T1', 'FB080-BA17': 'FB080-O1a', 'FB080-BA17-2': 'FB080-O1b', 'FB080-BA17-3': 'FB080-O1c', 'FB080-BA17-4': 'FB080-O1d', 'FB121-GW20-3A': 'FB121-F1', 'FB121-GW20-4A': 'FB121-F2', 'FB121-5A-GW20': 'FB121-P1', 'FB121-5C-rerun': 'FB121-T1', 'FB121-6A-230221': 'FB121-P2', 'FB121-BA17-GW20': 'FB121-O1', 'FB123-R2-2': 'FB123-F1', 'FB123-R3': 'FB123-F2', 'FB123-R4': 'FB123-F3', 'FB123-R5': 'FB123-P1', 'FB123-R6': 'FB123-O1', 'FB123-R6-2': 'FB123-O2', 'UMB5900-BA9': 'UMB5900-BA9', 'UMB5900-BA4': 'UMB5900-BA4', 'UMB5900-BA123': 'UMB5900-BA123', 'UMB5900-BA40': 'UMB5900-BA40a', 'UMB5900-BA40-2': 'UMB5900-BA40b', 'UMB5900-BA22': 'UMB5900-BA22', 'UMB5900-BA17': 'UMB5900-BA18'}\n",
    "adata_vz_20.obs['sample_region'] = adata_vz_20.obs['sample_region'].replace(dict1)\n",
    "print(adata_vz_20.obs)"
   ]
  },
  {
   "cell_type": "code",
   "execution_count": 52,
   "metadata": {},
   "outputs": [],
   "source": [
    "plot_df_15 = adata_vz_15.obs\n",
    "plot_df_20 = adata_vz_20.obs"
   ]
  },
  {
   "cell_type": "code",
   "execution_count": 66,
   "metadata": {},
   "outputs": [
    {
     "name": "stderr",
     "output_type": "stream",
     "text": [
      "/var/folders/xz/tff3yvr92zz54zqk2m9jp1f00000gq/T/ipykernel_65807/2703284973.py:1: FutureWarning: The default of observed=False is deprecated and will be changed to True in a future version of pandas. Pass observed=False to retain current behavior or observed=True to adopt the future default and silence this warning.\n",
      "  merged_encluster_sr_H1_15 = plot_df_15.groupby(['sample_region', 'H1_annotation']).size().reset_index(name='H1_sr_count')\n",
      "/var/folders/xz/tff3yvr92zz54zqk2m9jp1f00000gq/T/ipykernel_65807/2703284973.py:3: FutureWarning: The default of observed=False is deprecated and will be changed to True in a future version of pandas. Pass observed=False to retain current behavior or observed=True to adopt the future default and silence this warning.\n",
      "  merged_encluster_sr_H1_20 = plot_df_20.groupby(['sample_region', 'H1_annotation']).size().reset_index(name='H1_sr_count')\n"
     ]
    }
   ],
   "source": [
    "merged_encluster_sr_H1_15 = plot_df_15.groupby(['sample_region', 'H1_annotation']).size().reset_index(name='H1_sr_count')\n",
    "merged_encluster_sr_H1_15.to_csv(\"encluster_sr_H1_15.csv\", index=False)\n",
    "merged_encluster_sr_H1_20 = plot_df_20.groupby(['sample_region', 'H1_annotation']).size().reset_index(name='H1_sr_count')\n",
    "merged_encluster_sr_H1_20.to_csv(\"encluster_sr_H1_20.csv\", index=False)"
   ]
  },
  {
   "cell_type": "code",
   "execution_count": 61,
   "metadata": {},
   "outputs": [],
   "source": [
    "merged_encluster_sr_15 = plot_df_15.groupby(['sample_region']).size().reset_index(name='sr_count')\n",
    "merged_encluster_sr_15.to_csv(\"encluster_sr_15.csv\", index=False)\n",
    "merged_encluster_sr_20 = plot_df_20.groupby(['sample_region']).size().reset_index(name='sr_count')\n",
    "merged_encluster_sr_20.to_csv(\"encluster_sr_20.csv\", index=False)"
   ]
  },
  {
   "cell_type": "code",
   "execution_count": 67,
   "metadata": {},
   "outputs": [
    {
     "name": "stdout",
     "output_type": "stream",
     "text": [
      "  sample_region  sr_count\n",
      "0   UMB1117-F1a     20259\n",
      "1   UMB1117-F1b     16726\n",
      "2   UMB1117-F2a     10212\n",
      "3   UMB1117-F2b     11711\n",
      "4    UMB1117-O1     15598\n",
      "5    UMB1117-P1      8506\n",
      "6    UMB1117-T1      5763\n",
      "7    UMB1367-O1      6898\n",
      "8    UMB1367-P1      9058\n"
     ]
    }
   ],
   "source": [
    "print(merged_encluster_sr_15)"
   ]
  },
  {
   "cell_type": "code",
   "execution_count": 68,
   "metadata": {},
   "outputs": [
    {
     "name": "stdout",
     "output_type": "stream",
     "text": [
      "   sample_region H1_annotation  H1_sr_count\n",
      "0    UMB1117-F1a            EC          205\n",
      "1    UMB1117-F1a         EN-ET            0\n",
      "2    UMB1117-F1a         EN-IT            0\n",
      "3    UMB1117-F1a        EN-Mig           16\n",
      "4    UMB1117-F1a          Glia          221\n",
      "..           ...           ...          ...\n",
      "67    UMB1367-P1        EN-Mig           18\n",
      "68    UMB1367-P1          Glia          171\n",
      "69    UMB1367-P1            IN          480\n",
      "70    UMB1367-P1           IPC         1525\n",
      "71    UMB1367-P1            RG         6667\n",
      "\n",
      "[72 rows x 3 columns]\n"
     ]
    }
   ],
   "source": [
    "print(merged_encluster_sr_H1_15)"
   ]
  },
  {
   "cell_type": "code",
   "execution_count": 70,
   "metadata": {},
   "outputs": [
    {
     "name": "stdout",
     "output_type": "stream",
     "text": [
      "<bound method NDFrame.head of     sample_region H1_annotation  H1_sr_count  sr_count   percent\n",
      "0        FB080-F1            EC          266     20000  0.013300\n",
      "1        FB080-F1         EN-ET            0     20000  0.000000\n",
      "2        FB080-F1         EN-IT            0     20000  0.000000\n",
      "3        FB080-F1        EN-Mig          146     20000  0.007300\n",
      "4        FB080-F1          Glia          324     20000  0.016200\n",
      "..            ...           ...          ...       ...       ...\n",
      "115      FB121-T1        EN-Mig          554     11687  0.047403\n",
      "116      FB121-T1          Glia          323     11687  0.027638\n",
      "117      FB121-T1            IN         6968     11687  0.596218\n",
      "118      FB121-T1           IPC         2458     11687  0.210319\n",
      "119      FB121-T1            RG         1326     11687  0.113459\n",
      "\n",
      "[120 rows x 5 columns]>\n"
     ]
    }
   ],
   "source": [
    "count_sr_H1_15 = pd.merge(merged_encluster_sr_H1_15, merged_encluster_sr_15, on=\"sample_region\")\n",
    "count_sr_H1_15['percent'] = count_sr_H1_15['H1_sr_count'] / count_sr_H1_15['sr_count']\n",
    "count_sr_H1_20 = pd.merge(merged_encluster_sr_H1_20, merged_encluster_sr_20, on=\"sample_region\")\n",
    "count_sr_H1_20['percent'] = count_sr_H1_20['H1_sr_count'] / count_sr_H1_20['sr_count']\n",
    "print(count_sr_H1_20.head)"
   ]
  },
  {
   "cell_type": "code",
   "execution_count": 71,
   "metadata": {},
   "outputs": [
    {
     "name": "stdout",
     "output_type": "stream",
     "text": [
      "  sample_region  percent_sum\n",
      "0   UMB1117-F1a          1.0\n",
      "1   UMB1117-F1b          1.0\n",
      "2   UMB1117-F2a          1.0\n",
      "3   UMB1117-F2b          1.0\n",
      "4    UMB1117-O1          1.0\n",
      "5    UMB1117-P1          1.0\n",
      "6    UMB1117-T1          1.0\n",
      "7    UMB1367-O1          1.0\n",
      "8    UMB1367-P1          1.0\n"
     ]
    }
   ],
   "source": [
    "# Check the sum of the 'percent' column for each 'H1_annotation'\n",
    "percent_sum_check_15 = count_sr_H1_15.groupby('sample_region')['percent'].sum().reset_index(name='percent_sum')\n",
    "percent_sum_check_20 = count_sr_H1_20.groupby('sample_region')['percent'].sum().reset_index(name='percent_sum')\n",
    "# Display the sums to check if any do not equal 1\n",
    "print(percent_sum_check_15)"
   ]
  },
  {
   "cell_type": "code",
   "execution_count": 57,
   "metadata": {},
   "outputs": [],
   "source": [
    "count_sr_H1_15.to_csv(\"H1sr_histogram_15.csv\")\n",
    "count_sr_H1_20.to_csv(\"H1sr_histogram_20.csv\")"
   ]
  }
 ],
 "metadata": {
  "kernelspec": {
   "display_name": "iStarnew",
   "language": "python",
   "name": "python3"
  },
  "language_info": {
   "codemirror_mode": {
    "name": "ipython",
    "version": 3
   },
   "file_extension": ".py",
   "mimetype": "text/x-python",
   "name": "python",
   "nbconvert_exporter": "python",
   "pygments_lexer": "ipython3",
   "version": "3.9.18"
  }
 },
 "nbformat": 4,
 "nbformat_minor": 2
}
